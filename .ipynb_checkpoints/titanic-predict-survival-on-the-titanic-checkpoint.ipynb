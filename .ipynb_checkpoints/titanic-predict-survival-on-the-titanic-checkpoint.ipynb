{
 "cells": [
  {
   "cell_type": "code",
   "execution_count": 3,
   "metadata": {
    "execution": {
     "iopub.execute_input": "2024-03-24T17:40:09.125588Z",
     "iopub.status.busy": "2024-03-24T17:40:09.124878Z",
     "iopub.status.idle": "2024-03-24T17:40:09.130701Z",
     "shell.execute_reply": "2024-03-24T17:40:09.129566Z",
     "shell.execute_reply.started": "2024-03-24T17:40:09.125555Z"
    }
   },
   "outputs": [],
   "source": [
    "import pandas as pd\n",
    "import numpy as np\n",
    "import matplotlib.pyplot as plt\n",
    "import seaborn as sns"
   ]
  },
  {
   "cell_type": "markdown",
   "metadata": {},
   "source": [
    "## Loading Data"
   ]
  },
  {
   "cell_type": "markdown",
   "metadata": {},
   "source": [
    "### Training Data"
   ]
  },
  {
   "cell_type": "code",
   "execution_count": 6,
   "metadata": {
    "execution": {
     "iopub.execute_input": "2024-03-24T17:40:09.787244Z",
     "iopub.status.busy": "2024-03-24T17:40:09.786544Z",
     "iopub.status.idle": "2024-03-24T17:40:09.812613Z",
     "shell.execute_reply": "2024-03-24T17:40:09.811456Z",
     "shell.execute_reply.started": "2024-03-24T17:40:09.787205Z"
    }
   },
   "outputs": [
    {
     "data": {
      "text/html": [
       "<div>\n",
       "<style scoped>\n",
       "    .dataframe tbody tr th:only-of-type {\n",
       "        vertical-align: middle;\n",
       "    }\n",
       "\n",
       "    .dataframe tbody tr th {\n",
       "        vertical-align: top;\n",
       "    }\n",
       "\n",
       "    .dataframe thead th {\n",
       "        text-align: right;\n",
       "    }\n",
       "</style>\n",
       "<table border=\"1\" class=\"dataframe\">\n",
       "  <thead>\n",
       "    <tr style=\"text-align: right;\">\n",
       "      <th></th>\n",
       "      <th>PassengerId</th>\n",
       "      <th>Survived</th>\n",
       "      <th>Pclass</th>\n",
       "      <th>Name</th>\n",
       "      <th>Sex</th>\n",
       "      <th>Age</th>\n",
       "      <th>SibSp</th>\n",
       "      <th>Parch</th>\n",
       "      <th>Ticket</th>\n",
       "      <th>Fare</th>\n",
       "      <th>Cabin</th>\n",
       "      <th>Embarked</th>\n",
       "    </tr>\n",
       "  </thead>\n",
       "  <tbody>\n",
       "    <tr>\n",
       "      <th>0</th>\n",
       "      <td>1</td>\n",
       "      <td>0</td>\n",
       "      <td>3</td>\n",
       "      <td>Braund, Mr. Owen Harris</td>\n",
       "      <td>male</td>\n",
       "      <td>22.0</td>\n",
       "      <td>1</td>\n",
       "      <td>0</td>\n",
       "      <td>A/5 21171</td>\n",
       "      <td>7.2500</td>\n",
       "      <td>NaN</td>\n",
       "      <td>S</td>\n",
       "    </tr>\n",
       "    <tr>\n",
       "      <th>1</th>\n",
       "      <td>2</td>\n",
       "      <td>1</td>\n",
       "      <td>1</td>\n",
       "      <td>Cumings, Mrs. John Bradley (Florence Briggs Th...</td>\n",
       "      <td>female</td>\n",
       "      <td>38.0</td>\n",
       "      <td>1</td>\n",
       "      <td>0</td>\n",
       "      <td>PC 17599</td>\n",
       "      <td>71.2833</td>\n",
       "      <td>C85</td>\n",
       "      <td>C</td>\n",
       "    </tr>\n",
       "    <tr>\n",
       "      <th>2</th>\n",
       "      <td>3</td>\n",
       "      <td>1</td>\n",
       "      <td>3</td>\n",
       "      <td>Heikkinen, Miss. Laina</td>\n",
       "      <td>female</td>\n",
       "      <td>26.0</td>\n",
       "      <td>0</td>\n",
       "      <td>0</td>\n",
       "      <td>STON/O2. 3101282</td>\n",
       "      <td>7.9250</td>\n",
       "      <td>NaN</td>\n",
       "      <td>S</td>\n",
       "    </tr>\n",
       "    <tr>\n",
       "      <th>3</th>\n",
       "      <td>4</td>\n",
       "      <td>1</td>\n",
       "      <td>1</td>\n",
       "      <td>Futrelle, Mrs. Jacques Heath (Lily May Peel)</td>\n",
       "      <td>female</td>\n",
       "      <td>35.0</td>\n",
       "      <td>1</td>\n",
       "      <td>0</td>\n",
       "      <td>113803</td>\n",
       "      <td>53.1000</td>\n",
       "      <td>C123</td>\n",
       "      <td>S</td>\n",
       "    </tr>\n",
       "    <tr>\n",
       "      <th>4</th>\n",
       "      <td>5</td>\n",
       "      <td>0</td>\n",
       "      <td>3</td>\n",
       "      <td>Allen, Mr. William Henry</td>\n",
       "      <td>male</td>\n",
       "      <td>35.0</td>\n",
       "      <td>0</td>\n",
       "      <td>0</td>\n",
       "      <td>373450</td>\n",
       "      <td>8.0500</td>\n",
       "      <td>NaN</td>\n",
       "      <td>S</td>\n",
       "    </tr>\n",
       "  </tbody>\n",
       "</table>\n",
       "</div>"
      ],
      "text/plain": [
       "   PassengerId  Survived  Pclass  \\\n",
       "0            1         0       3   \n",
       "1            2         1       1   \n",
       "2            3         1       3   \n",
       "3            4         1       1   \n",
       "4            5         0       3   \n",
       "\n",
       "                                                Name     Sex   Age  SibSp  \\\n",
       "0                            Braund, Mr. Owen Harris    male  22.0      1   \n",
       "1  Cumings, Mrs. John Bradley (Florence Briggs Th...  female  38.0      1   \n",
       "2                             Heikkinen, Miss. Laina  female  26.0      0   \n",
       "3       Futrelle, Mrs. Jacques Heath (Lily May Peel)  female  35.0      1   \n",
       "4                           Allen, Mr. William Henry    male  35.0      0   \n",
       "\n",
       "   Parch            Ticket     Fare Cabin Embarked  \n",
       "0      0         A/5 21171   7.2500   NaN        S  \n",
       "1      0          PC 17599  71.2833   C85        C  \n",
       "2      0  STON/O2. 3101282   7.9250   NaN        S  \n",
       "3      0            113803  53.1000  C123        S  \n",
       "4      0            373450   8.0500   NaN        S  "
      ]
     },
     "execution_count": 6,
     "metadata": {},
     "output_type": "execute_result"
    }
   ],
   "source": [
    "df_train = pd.read_csv('../titanic/train.csv')\n",
    "df_train.head()"
   ]
  },
  {
   "cell_type": "code",
   "execution_count": 7,
   "metadata": {
    "execution": {
     "iopub.execute_input": "2024-03-24T17:40:09.990563Z",
     "iopub.status.busy": "2024-03-24T17:40:09.989888Z",
     "iopub.status.idle": "2024-03-24T17:40:10.021535Z",
     "shell.execute_reply": "2024-03-24T17:40:10.020307Z",
     "shell.execute_reply.started": "2024-03-24T17:40:09.990527Z"
    }
   },
   "outputs": [
    {
     "data": {
      "text/html": [
       "<div>\n",
       "<style scoped>\n",
       "    .dataframe tbody tr th:only-of-type {\n",
       "        vertical-align: middle;\n",
       "    }\n",
       "\n",
       "    .dataframe tbody tr th {\n",
       "        vertical-align: top;\n",
       "    }\n",
       "\n",
       "    .dataframe thead th {\n",
       "        text-align: right;\n",
       "    }\n",
       "</style>\n",
       "<table border=\"1\" class=\"dataframe\">\n",
       "  <thead>\n",
       "    <tr style=\"text-align: right;\">\n",
       "      <th></th>\n",
       "      <th>PassengerId</th>\n",
       "      <th>Survived</th>\n",
       "      <th>Pclass</th>\n",
       "      <th>Age</th>\n",
       "      <th>SibSp</th>\n",
       "      <th>Parch</th>\n",
       "      <th>Fare</th>\n",
       "    </tr>\n",
       "  </thead>\n",
       "  <tbody>\n",
       "    <tr>\n",
       "      <th>count</th>\n",
       "      <td>891.000000</td>\n",
       "      <td>891.000000</td>\n",
       "      <td>891.000000</td>\n",
       "      <td>714.000000</td>\n",
       "      <td>891.000000</td>\n",
       "      <td>891.000000</td>\n",
       "      <td>891.000000</td>\n",
       "    </tr>\n",
       "    <tr>\n",
       "      <th>mean</th>\n",
       "      <td>446.000000</td>\n",
       "      <td>0.383838</td>\n",
       "      <td>2.308642</td>\n",
       "      <td>29.699118</td>\n",
       "      <td>0.523008</td>\n",
       "      <td>0.381594</td>\n",
       "      <td>32.204208</td>\n",
       "    </tr>\n",
       "    <tr>\n",
       "      <th>std</th>\n",
       "      <td>257.353842</td>\n",
       "      <td>0.486592</td>\n",
       "      <td>0.836071</td>\n",
       "      <td>14.526497</td>\n",
       "      <td>1.102743</td>\n",
       "      <td>0.806057</td>\n",
       "      <td>49.693429</td>\n",
       "    </tr>\n",
       "    <tr>\n",
       "      <th>min</th>\n",
       "      <td>1.000000</td>\n",
       "      <td>0.000000</td>\n",
       "      <td>1.000000</td>\n",
       "      <td>0.420000</td>\n",
       "      <td>0.000000</td>\n",
       "      <td>0.000000</td>\n",
       "      <td>0.000000</td>\n",
       "    </tr>\n",
       "    <tr>\n",
       "      <th>25%</th>\n",
       "      <td>223.500000</td>\n",
       "      <td>0.000000</td>\n",
       "      <td>2.000000</td>\n",
       "      <td>20.125000</td>\n",
       "      <td>0.000000</td>\n",
       "      <td>0.000000</td>\n",
       "      <td>7.910400</td>\n",
       "    </tr>\n",
       "    <tr>\n",
       "      <th>50%</th>\n",
       "      <td>446.000000</td>\n",
       "      <td>0.000000</td>\n",
       "      <td>3.000000</td>\n",
       "      <td>28.000000</td>\n",
       "      <td>0.000000</td>\n",
       "      <td>0.000000</td>\n",
       "      <td>14.454200</td>\n",
       "    </tr>\n",
       "    <tr>\n",
       "      <th>75%</th>\n",
       "      <td>668.500000</td>\n",
       "      <td>1.000000</td>\n",
       "      <td>3.000000</td>\n",
       "      <td>38.000000</td>\n",
       "      <td>1.000000</td>\n",
       "      <td>0.000000</td>\n",
       "      <td>31.000000</td>\n",
       "    </tr>\n",
       "    <tr>\n",
       "      <th>max</th>\n",
       "      <td>891.000000</td>\n",
       "      <td>1.000000</td>\n",
       "      <td>3.000000</td>\n",
       "      <td>80.000000</td>\n",
       "      <td>8.000000</td>\n",
       "      <td>6.000000</td>\n",
       "      <td>512.329200</td>\n",
       "    </tr>\n",
       "  </tbody>\n",
       "</table>\n",
       "</div>"
      ],
      "text/plain": [
       "       PassengerId    Survived      Pclass         Age       SibSp  \\\n",
       "count   891.000000  891.000000  891.000000  714.000000  891.000000   \n",
       "mean    446.000000    0.383838    2.308642   29.699118    0.523008   \n",
       "std     257.353842    0.486592    0.836071   14.526497    1.102743   \n",
       "min       1.000000    0.000000    1.000000    0.420000    0.000000   \n",
       "25%     223.500000    0.000000    2.000000   20.125000    0.000000   \n",
       "50%     446.000000    0.000000    3.000000   28.000000    0.000000   \n",
       "75%     668.500000    1.000000    3.000000   38.000000    1.000000   \n",
       "max     891.000000    1.000000    3.000000   80.000000    8.000000   \n",
       "\n",
       "            Parch        Fare  \n",
       "count  891.000000  891.000000  \n",
       "mean     0.381594   32.204208  \n",
       "std      0.806057   49.693429  \n",
       "min      0.000000    0.000000  \n",
       "25%      0.000000    7.910400  \n",
       "50%      0.000000   14.454200  \n",
       "75%      0.000000   31.000000  \n",
       "max      6.000000  512.329200  "
      ]
     },
     "execution_count": 7,
     "metadata": {},
     "output_type": "execute_result"
    }
   ],
   "source": [
    "df_train.describe()"
   ]
  },
  {
   "cell_type": "code",
   "execution_count": 8,
   "metadata": {
    "execution": {
     "iopub.execute_input": "2024-03-24T17:40:10.204261Z",
     "iopub.status.busy": "2024-03-24T17:40:10.203339Z",
     "iopub.status.idle": "2024-03-24T17:40:10.210859Z",
     "shell.execute_reply": "2024-03-24T17:40:10.209832Z",
     "shell.execute_reply.started": "2024-03-24T17:40:10.204214Z"
    }
   },
   "outputs": [
    {
     "data": {
      "text/plain": [
       "(891, 12)"
      ]
     },
     "execution_count": 8,
     "metadata": {},
     "output_type": "execute_result"
    }
   ],
   "source": [
    "df_train.shape"
   ]
  },
  {
   "cell_type": "markdown",
   "metadata": {},
   "source": [
    "### Testing Data"
   ]
  },
  {
   "cell_type": "code",
   "execution_count": 13,
   "metadata": {
    "execution": {
     "iopub.execute_input": "2024-03-24T17:40:10.633252Z",
     "iopub.status.busy": "2024-03-24T17:40:10.632448Z",
     "iopub.status.idle": "2024-03-24T17:40:10.657063Z",
     "shell.execute_reply": "2024-03-24T17:40:10.656082Z",
     "shell.execute_reply.started": "2024-03-24T17:40:10.633213Z"
    }
   },
   "outputs": [
    {
     "data": {
      "text/html": [
       "<div>\n",
       "<style scoped>\n",
       "    .dataframe tbody tr th:only-of-type {\n",
       "        vertical-align: middle;\n",
       "    }\n",
       "\n",
       "    .dataframe tbody tr th {\n",
       "        vertical-align: top;\n",
       "    }\n",
       "\n",
       "    .dataframe thead th {\n",
       "        text-align: right;\n",
       "    }\n",
       "</style>\n",
       "<table border=\"1\" class=\"dataframe\">\n",
       "  <thead>\n",
       "    <tr style=\"text-align: right;\">\n",
       "      <th></th>\n",
       "      <th>PassengerId</th>\n",
       "      <th>Pclass</th>\n",
       "      <th>Name</th>\n",
       "      <th>Sex</th>\n",
       "      <th>Age</th>\n",
       "      <th>SibSp</th>\n",
       "      <th>Parch</th>\n",
       "      <th>Ticket</th>\n",
       "      <th>Fare</th>\n",
       "      <th>Cabin</th>\n",
       "      <th>Embarked</th>\n",
       "    </tr>\n",
       "  </thead>\n",
       "  <tbody>\n",
       "    <tr>\n",
       "      <th>0</th>\n",
       "      <td>892</td>\n",
       "      <td>3</td>\n",
       "      <td>Kelly, Mr. James</td>\n",
       "      <td>male</td>\n",
       "      <td>34.5</td>\n",
       "      <td>0</td>\n",
       "      <td>0</td>\n",
       "      <td>330911</td>\n",
       "      <td>7.8292</td>\n",
       "      <td>NaN</td>\n",
       "      <td>Q</td>\n",
       "    </tr>\n",
       "    <tr>\n",
       "      <th>1</th>\n",
       "      <td>893</td>\n",
       "      <td>3</td>\n",
       "      <td>Wilkes, Mrs. James (Ellen Needs)</td>\n",
       "      <td>female</td>\n",
       "      <td>47.0</td>\n",
       "      <td>1</td>\n",
       "      <td>0</td>\n",
       "      <td>363272</td>\n",
       "      <td>7.0000</td>\n",
       "      <td>NaN</td>\n",
       "      <td>S</td>\n",
       "    </tr>\n",
       "    <tr>\n",
       "      <th>2</th>\n",
       "      <td>894</td>\n",
       "      <td>2</td>\n",
       "      <td>Myles, Mr. Thomas Francis</td>\n",
       "      <td>male</td>\n",
       "      <td>62.0</td>\n",
       "      <td>0</td>\n",
       "      <td>0</td>\n",
       "      <td>240276</td>\n",
       "      <td>9.6875</td>\n",
       "      <td>NaN</td>\n",
       "      <td>Q</td>\n",
       "    </tr>\n",
       "    <tr>\n",
       "      <th>3</th>\n",
       "      <td>895</td>\n",
       "      <td>3</td>\n",
       "      <td>Wirz, Mr. Albert</td>\n",
       "      <td>male</td>\n",
       "      <td>27.0</td>\n",
       "      <td>0</td>\n",
       "      <td>0</td>\n",
       "      <td>315154</td>\n",
       "      <td>8.6625</td>\n",
       "      <td>NaN</td>\n",
       "      <td>S</td>\n",
       "    </tr>\n",
       "    <tr>\n",
       "      <th>4</th>\n",
       "      <td>896</td>\n",
       "      <td>3</td>\n",
       "      <td>Hirvonen, Mrs. Alexander (Helga E Lindqvist)</td>\n",
       "      <td>female</td>\n",
       "      <td>22.0</td>\n",
       "      <td>1</td>\n",
       "      <td>1</td>\n",
       "      <td>3101298</td>\n",
       "      <td>12.2875</td>\n",
       "      <td>NaN</td>\n",
       "      <td>S</td>\n",
       "    </tr>\n",
       "  </tbody>\n",
       "</table>\n",
       "</div>"
      ],
      "text/plain": [
       "   PassengerId  Pclass                                          Name     Sex  \\\n",
       "0          892       3                              Kelly, Mr. James    male   \n",
       "1          893       3              Wilkes, Mrs. James (Ellen Needs)  female   \n",
       "2          894       2                     Myles, Mr. Thomas Francis    male   \n",
       "3          895       3                              Wirz, Mr. Albert    male   \n",
       "4          896       3  Hirvonen, Mrs. Alexander (Helga E Lindqvist)  female   \n",
       "\n",
       "    Age  SibSp  Parch   Ticket     Fare Cabin Embarked  \n",
       "0  34.5      0      0   330911   7.8292   NaN        Q  \n",
       "1  47.0      1      0   363272   7.0000   NaN        S  \n",
       "2  62.0      0      0   240276   9.6875   NaN        Q  \n",
       "3  27.0      0      0   315154   8.6625   NaN        S  \n",
       "4  22.0      1      1  3101298  12.2875   NaN        S  "
      ]
     },
     "execution_count": 13,
     "metadata": {},
     "output_type": "execute_result"
    }
   ],
   "source": [
    "df_test = pd.read_csv('../titanic/test.csv')\n",
    "df_test.head()"
   ]
  },
  {
   "cell_type": "code",
   "execution_count": 14,
   "metadata": {
    "execution": {
     "iopub.execute_input": "2024-03-24T17:40:10.836678Z",
     "iopub.status.busy": "2024-03-24T17:40:10.836220Z",
     "iopub.status.idle": "2024-03-24T17:40:10.864592Z",
     "shell.execute_reply": "2024-03-24T17:40:10.863407Z",
     "shell.execute_reply.started": "2024-03-24T17:40:10.836642Z"
    }
   },
   "outputs": [
    {
     "data": {
      "text/html": [
       "<div>\n",
       "<style scoped>\n",
       "    .dataframe tbody tr th:only-of-type {\n",
       "        vertical-align: middle;\n",
       "    }\n",
       "\n",
       "    .dataframe tbody tr th {\n",
       "        vertical-align: top;\n",
       "    }\n",
       "\n",
       "    .dataframe thead th {\n",
       "        text-align: right;\n",
       "    }\n",
       "</style>\n",
       "<table border=\"1\" class=\"dataframe\">\n",
       "  <thead>\n",
       "    <tr style=\"text-align: right;\">\n",
       "      <th></th>\n",
       "      <th>PassengerId</th>\n",
       "      <th>Pclass</th>\n",
       "      <th>Age</th>\n",
       "      <th>SibSp</th>\n",
       "      <th>Parch</th>\n",
       "      <th>Fare</th>\n",
       "    </tr>\n",
       "  </thead>\n",
       "  <tbody>\n",
       "    <tr>\n",
       "      <th>count</th>\n",
       "      <td>418.000000</td>\n",
       "      <td>418.000000</td>\n",
       "      <td>332.000000</td>\n",
       "      <td>418.000000</td>\n",
       "      <td>418.000000</td>\n",
       "      <td>417.000000</td>\n",
       "    </tr>\n",
       "    <tr>\n",
       "      <th>mean</th>\n",
       "      <td>1100.500000</td>\n",
       "      <td>2.265550</td>\n",
       "      <td>30.272590</td>\n",
       "      <td>0.447368</td>\n",
       "      <td>0.392344</td>\n",
       "      <td>35.627188</td>\n",
       "    </tr>\n",
       "    <tr>\n",
       "      <th>std</th>\n",
       "      <td>120.810458</td>\n",
       "      <td>0.841838</td>\n",
       "      <td>14.181209</td>\n",
       "      <td>0.896760</td>\n",
       "      <td>0.981429</td>\n",
       "      <td>55.907576</td>\n",
       "    </tr>\n",
       "    <tr>\n",
       "      <th>min</th>\n",
       "      <td>892.000000</td>\n",
       "      <td>1.000000</td>\n",
       "      <td>0.170000</td>\n",
       "      <td>0.000000</td>\n",
       "      <td>0.000000</td>\n",
       "      <td>0.000000</td>\n",
       "    </tr>\n",
       "    <tr>\n",
       "      <th>25%</th>\n",
       "      <td>996.250000</td>\n",
       "      <td>1.000000</td>\n",
       "      <td>21.000000</td>\n",
       "      <td>0.000000</td>\n",
       "      <td>0.000000</td>\n",
       "      <td>7.895800</td>\n",
       "    </tr>\n",
       "    <tr>\n",
       "      <th>50%</th>\n",
       "      <td>1100.500000</td>\n",
       "      <td>3.000000</td>\n",
       "      <td>27.000000</td>\n",
       "      <td>0.000000</td>\n",
       "      <td>0.000000</td>\n",
       "      <td>14.454200</td>\n",
       "    </tr>\n",
       "    <tr>\n",
       "      <th>75%</th>\n",
       "      <td>1204.750000</td>\n",
       "      <td>3.000000</td>\n",
       "      <td>39.000000</td>\n",
       "      <td>1.000000</td>\n",
       "      <td>0.000000</td>\n",
       "      <td>31.500000</td>\n",
       "    </tr>\n",
       "    <tr>\n",
       "      <th>max</th>\n",
       "      <td>1309.000000</td>\n",
       "      <td>3.000000</td>\n",
       "      <td>76.000000</td>\n",
       "      <td>8.000000</td>\n",
       "      <td>9.000000</td>\n",
       "      <td>512.329200</td>\n",
       "    </tr>\n",
       "  </tbody>\n",
       "</table>\n",
       "</div>"
      ],
      "text/plain": [
       "       PassengerId      Pclass         Age       SibSp       Parch        Fare\n",
       "count   418.000000  418.000000  332.000000  418.000000  418.000000  417.000000\n",
       "mean   1100.500000    2.265550   30.272590    0.447368    0.392344   35.627188\n",
       "std     120.810458    0.841838   14.181209    0.896760    0.981429   55.907576\n",
       "min     892.000000    1.000000    0.170000    0.000000    0.000000    0.000000\n",
       "25%     996.250000    1.000000   21.000000    0.000000    0.000000    7.895800\n",
       "50%    1100.500000    3.000000   27.000000    0.000000    0.000000   14.454200\n",
       "75%    1204.750000    3.000000   39.000000    1.000000    0.000000   31.500000\n",
       "max    1309.000000    3.000000   76.000000    8.000000    9.000000  512.329200"
      ]
     },
     "execution_count": 14,
     "metadata": {},
     "output_type": "execute_result"
    }
   ],
   "source": [
    "df_test.describe()"
   ]
  },
  {
   "cell_type": "code",
   "execution_count": 15,
   "metadata": {
    "execution": {
     "iopub.execute_input": "2024-03-24T17:40:11.054014Z",
     "iopub.status.busy": "2024-03-24T17:40:11.053592Z",
     "iopub.status.idle": "2024-03-24T17:40:11.061902Z",
     "shell.execute_reply": "2024-03-24T17:40:11.060580Z",
     "shell.execute_reply.started": "2024-03-24T17:40:11.053983Z"
    }
   },
   "outputs": [
    {
     "data": {
      "text/plain": [
       "(418, 11)"
      ]
     },
     "execution_count": 15,
     "metadata": {},
     "output_type": "execute_result"
    }
   ],
   "source": [
    "df_test.shape"
   ]
  },
  {
   "cell_type": "markdown",
   "metadata": {},
   "source": [
    "## Concatenate Training And Test"
   ]
  },
  {
   "cell_type": "code",
   "execution_count": 16,
   "metadata": {
    "execution": {
     "iopub.execute_input": "2024-03-24T17:40:11.474113Z",
     "iopub.status.busy": "2024-03-24T17:40:11.473420Z",
     "iopub.status.idle": "2024-03-24T17:40:11.493620Z",
     "shell.execute_reply": "2024-03-24T17:40:11.492237Z",
     "shell.execute_reply.started": "2024-03-24T17:40:11.474075Z"
    }
   },
   "outputs": [
    {
     "data": {
      "text/html": [
       "<div>\n",
       "<style scoped>\n",
       "    .dataframe tbody tr th:only-of-type {\n",
       "        vertical-align: middle;\n",
       "    }\n",
       "\n",
       "    .dataframe tbody tr th {\n",
       "        vertical-align: top;\n",
       "    }\n",
       "\n",
       "    .dataframe thead th {\n",
       "        text-align: right;\n",
       "    }\n",
       "</style>\n",
       "<table border=\"1\" class=\"dataframe\">\n",
       "  <thead>\n",
       "    <tr style=\"text-align: right;\">\n",
       "      <th></th>\n",
       "      <th>PassengerId</th>\n",
       "      <th>Survived</th>\n",
       "      <th>Pclass</th>\n",
       "      <th>Name</th>\n",
       "      <th>Sex</th>\n",
       "      <th>Age</th>\n",
       "      <th>SibSp</th>\n",
       "      <th>Parch</th>\n",
       "      <th>Ticket</th>\n",
       "      <th>Fare</th>\n",
       "      <th>Cabin</th>\n",
       "      <th>Embarked</th>\n",
       "    </tr>\n",
       "  </thead>\n",
       "  <tbody>\n",
       "    <tr>\n",
       "      <th>0</th>\n",
       "      <td>1</td>\n",
       "      <td>0.0</td>\n",
       "      <td>3</td>\n",
       "      <td>Braund, Mr. Owen Harris</td>\n",
       "      <td>male</td>\n",
       "      <td>22.0</td>\n",
       "      <td>1</td>\n",
       "      <td>0</td>\n",
       "      <td>A/5 21171</td>\n",
       "      <td>7.2500</td>\n",
       "      <td>NaN</td>\n",
       "      <td>S</td>\n",
       "    </tr>\n",
       "    <tr>\n",
       "      <th>1</th>\n",
       "      <td>2</td>\n",
       "      <td>1.0</td>\n",
       "      <td>1</td>\n",
       "      <td>Cumings, Mrs. John Bradley (Florence Briggs Th...</td>\n",
       "      <td>female</td>\n",
       "      <td>38.0</td>\n",
       "      <td>1</td>\n",
       "      <td>0</td>\n",
       "      <td>PC 17599</td>\n",
       "      <td>71.2833</td>\n",
       "      <td>C85</td>\n",
       "      <td>C</td>\n",
       "    </tr>\n",
       "    <tr>\n",
       "      <th>2</th>\n",
       "      <td>3</td>\n",
       "      <td>1.0</td>\n",
       "      <td>3</td>\n",
       "      <td>Heikkinen, Miss. Laina</td>\n",
       "      <td>female</td>\n",
       "      <td>26.0</td>\n",
       "      <td>0</td>\n",
       "      <td>0</td>\n",
       "      <td>STON/O2. 3101282</td>\n",
       "      <td>7.9250</td>\n",
       "      <td>NaN</td>\n",
       "      <td>S</td>\n",
       "    </tr>\n",
       "    <tr>\n",
       "      <th>3</th>\n",
       "      <td>4</td>\n",
       "      <td>1.0</td>\n",
       "      <td>1</td>\n",
       "      <td>Futrelle, Mrs. Jacques Heath (Lily May Peel)</td>\n",
       "      <td>female</td>\n",
       "      <td>35.0</td>\n",
       "      <td>1</td>\n",
       "      <td>0</td>\n",
       "      <td>113803</td>\n",
       "      <td>53.1000</td>\n",
       "      <td>C123</td>\n",
       "      <td>S</td>\n",
       "    </tr>\n",
       "    <tr>\n",
       "      <th>4</th>\n",
       "      <td>5</td>\n",
       "      <td>0.0</td>\n",
       "      <td>3</td>\n",
       "      <td>Allen, Mr. William Henry</td>\n",
       "      <td>male</td>\n",
       "      <td>35.0</td>\n",
       "      <td>0</td>\n",
       "      <td>0</td>\n",
       "      <td>373450</td>\n",
       "      <td>8.0500</td>\n",
       "      <td>NaN</td>\n",
       "      <td>S</td>\n",
       "    </tr>\n",
       "  </tbody>\n",
       "</table>\n",
       "</div>"
      ],
      "text/plain": [
       "   PassengerId  Survived  Pclass  \\\n",
       "0            1       0.0       3   \n",
       "1            2       1.0       1   \n",
       "2            3       1.0       3   \n",
       "3            4       1.0       1   \n",
       "4            5       0.0       3   \n",
       "\n",
       "                                                Name     Sex   Age  SibSp  \\\n",
       "0                            Braund, Mr. Owen Harris    male  22.0      1   \n",
       "1  Cumings, Mrs. John Bradley (Florence Briggs Th...  female  38.0      1   \n",
       "2                             Heikkinen, Miss. Laina  female  26.0      0   \n",
       "3       Futrelle, Mrs. Jacques Heath (Lily May Peel)  female  35.0      1   \n",
       "4                           Allen, Mr. William Henry    male  35.0      0   \n",
       "\n",
       "   Parch            Ticket     Fare Cabin Embarked  \n",
       "0      0         A/5 21171   7.2500   NaN        S  \n",
       "1      0          PC 17599  71.2833   C85        C  \n",
       "2      0  STON/O2. 3101282   7.9250   NaN        S  \n",
       "3      0            113803  53.1000  C123        S  \n",
       "4      0            373450   8.0500   NaN        S  "
      ]
     },
     "execution_count": 16,
     "metadata": {},
     "output_type": "execute_result"
    }
   ],
   "source": [
    "df_concat = pd.concat([df_train, df_test])\n",
    "df_concat.head()"
   ]
  },
  {
   "cell_type": "code",
   "execution_count": 17,
   "metadata": {
    "execution": {
     "iopub.execute_input": "2024-03-24T17:40:11.656754Z",
     "iopub.status.busy": "2024-03-24T17:40:11.656327Z",
     "iopub.status.idle": "2024-03-24T17:40:11.664056Z",
     "shell.execute_reply": "2024-03-24T17:40:11.662627Z",
     "shell.execute_reply.started": "2024-03-24T17:40:11.656725Z"
    }
   },
   "outputs": [],
   "source": [
    "#reset index\n",
    "df_concat = df_concat.reset_index()"
   ]
  },
  {
   "cell_type": "markdown",
   "metadata": {},
   "source": [
    "After reseting the index, data frame have the new column named \"index\" which contains the original indices and we can remove it"
   ]
  },
  {
   "cell_type": "code",
   "execution_count": 18,
   "metadata": {
    "execution": {
     "iopub.execute_input": "2024-03-24T17:40:12.088828Z",
     "iopub.status.busy": "2024-03-24T17:40:12.088377Z",
     "iopub.status.idle": "2024-03-24T17:40:12.110218Z",
     "shell.execute_reply": "2024-03-24T17:40:12.109085Z",
     "shell.execute_reply.started": "2024-03-24T17:40:12.088782Z"
    }
   },
   "outputs": [
    {
     "data": {
      "text/html": [
       "<div>\n",
       "<style scoped>\n",
       "    .dataframe tbody tr th:only-of-type {\n",
       "        vertical-align: middle;\n",
       "    }\n",
       "\n",
       "    .dataframe tbody tr th {\n",
       "        vertical-align: top;\n",
       "    }\n",
       "\n",
       "    .dataframe thead th {\n",
       "        text-align: right;\n",
       "    }\n",
       "</style>\n",
       "<table border=\"1\" class=\"dataframe\">\n",
       "  <thead>\n",
       "    <tr style=\"text-align: right;\">\n",
       "      <th></th>\n",
       "      <th>index</th>\n",
       "      <th>PassengerId</th>\n",
       "      <th>Survived</th>\n",
       "      <th>Pclass</th>\n",
       "      <th>Name</th>\n",
       "      <th>Sex</th>\n",
       "      <th>Age</th>\n",
       "      <th>SibSp</th>\n",
       "      <th>Parch</th>\n",
       "      <th>Ticket</th>\n",
       "      <th>Fare</th>\n",
       "      <th>Cabin</th>\n",
       "      <th>Embarked</th>\n",
       "    </tr>\n",
       "  </thead>\n",
       "  <tbody>\n",
       "    <tr>\n",
       "      <th>0</th>\n",
       "      <td>0</td>\n",
       "      <td>1</td>\n",
       "      <td>0.0</td>\n",
       "      <td>3</td>\n",
       "      <td>Braund, Mr. Owen Harris</td>\n",
       "      <td>male</td>\n",
       "      <td>22.0</td>\n",
       "      <td>1</td>\n",
       "      <td>0</td>\n",
       "      <td>A/5 21171</td>\n",
       "      <td>7.2500</td>\n",
       "      <td>NaN</td>\n",
       "      <td>S</td>\n",
       "    </tr>\n",
       "    <tr>\n",
       "      <th>1</th>\n",
       "      <td>1</td>\n",
       "      <td>2</td>\n",
       "      <td>1.0</td>\n",
       "      <td>1</td>\n",
       "      <td>Cumings, Mrs. John Bradley (Florence Briggs Th...</td>\n",
       "      <td>female</td>\n",
       "      <td>38.0</td>\n",
       "      <td>1</td>\n",
       "      <td>0</td>\n",
       "      <td>PC 17599</td>\n",
       "      <td>71.2833</td>\n",
       "      <td>C85</td>\n",
       "      <td>C</td>\n",
       "    </tr>\n",
       "    <tr>\n",
       "      <th>2</th>\n",
       "      <td>2</td>\n",
       "      <td>3</td>\n",
       "      <td>1.0</td>\n",
       "      <td>3</td>\n",
       "      <td>Heikkinen, Miss. Laina</td>\n",
       "      <td>female</td>\n",
       "      <td>26.0</td>\n",
       "      <td>0</td>\n",
       "      <td>0</td>\n",
       "      <td>STON/O2. 3101282</td>\n",
       "      <td>7.9250</td>\n",
       "      <td>NaN</td>\n",
       "      <td>S</td>\n",
       "    </tr>\n",
       "    <tr>\n",
       "      <th>3</th>\n",
       "      <td>3</td>\n",
       "      <td>4</td>\n",
       "      <td>1.0</td>\n",
       "      <td>1</td>\n",
       "      <td>Futrelle, Mrs. Jacques Heath (Lily May Peel)</td>\n",
       "      <td>female</td>\n",
       "      <td>35.0</td>\n",
       "      <td>1</td>\n",
       "      <td>0</td>\n",
       "      <td>113803</td>\n",
       "      <td>53.1000</td>\n",
       "      <td>C123</td>\n",
       "      <td>S</td>\n",
       "    </tr>\n",
       "    <tr>\n",
       "      <th>4</th>\n",
       "      <td>4</td>\n",
       "      <td>5</td>\n",
       "      <td>0.0</td>\n",
       "      <td>3</td>\n",
       "      <td>Allen, Mr. William Henry</td>\n",
       "      <td>male</td>\n",
       "      <td>35.0</td>\n",
       "      <td>0</td>\n",
       "      <td>0</td>\n",
       "      <td>373450</td>\n",
       "      <td>8.0500</td>\n",
       "      <td>NaN</td>\n",
       "      <td>S</td>\n",
       "    </tr>\n",
       "    <tr>\n",
       "      <th>...</th>\n",
       "      <td>...</td>\n",
       "      <td>...</td>\n",
       "      <td>...</td>\n",
       "      <td>...</td>\n",
       "      <td>...</td>\n",
       "      <td>...</td>\n",
       "      <td>...</td>\n",
       "      <td>...</td>\n",
       "      <td>...</td>\n",
       "      <td>...</td>\n",
       "      <td>...</td>\n",
       "      <td>...</td>\n",
       "      <td>...</td>\n",
       "    </tr>\n",
       "    <tr>\n",
       "      <th>1304</th>\n",
       "      <td>413</td>\n",
       "      <td>1305</td>\n",
       "      <td>NaN</td>\n",
       "      <td>3</td>\n",
       "      <td>Spector, Mr. Woolf</td>\n",
       "      <td>male</td>\n",
       "      <td>NaN</td>\n",
       "      <td>0</td>\n",
       "      <td>0</td>\n",
       "      <td>A.5. 3236</td>\n",
       "      <td>8.0500</td>\n",
       "      <td>NaN</td>\n",
       "      <td>S</td>\n",
       "    </tr>\n",
       "    <tr>\n",
       "      <th>1305</th>\n",
       "      <td>414</td>\n",
       "      <td>1306</td>\n",
       "      <td>NaN</td>\n",
       "      <td>1</td>\n",
       "      <td>Oliva y Ocana, Dona. Fermina</td>\n",
       "      <td>female</td>\n",
       "      <td>39.0</td>\n",
       "      <td>0</td>\n",
       "      <td>0</td>\n",
       "      <td>PC 17758</td>\n",
       "      <td>108.9000</td>\n",
       "      <td>C105</td>\n",
       "      <td>C</td>\n",
       "    </tr>\n",
       "    <tr>\n",
       "      <th>1306</th>\n",
       "      <td>415</td>\n",
       "      <td>1307</td>\n",
       "      <td>NaN</td>\n",
       "      <td>3</td>\n",
       "      <td>Saether, Mr. Simon Sivertsen</td>\n",
       "      <td>male</td>\n",
       "      <td>38.5</td>\n",
       "      <td>0</td>\n",
       "      <td>0</td>\n",
       "      <td>SOTON/O.Q. 3101262</td>\n",
       "      <td>7.2500</td>\n",
       "      <td>NaN</td>\n",
       "      <td>S</td>\n",
       "    </tr>\n",
       "    <tr>\n",
       "      <th>1307</th>\n",
       "      <td>416</td>\n",
       "      <td>1308</td>\n",
       "      <td>NaN</td>\n",
       "      <td>3</td>\n",
       "      <td>Ware, Mr. Frederick</td>\n",
       "      <td>male</td>\n",
       "      <td>NaN</td>\n",
       "      <td>0</td>\n",
       "      <td>0</td>\n",
       "      <td>359309</td>\n",
       "      <td>8.0500</td>\n",
       "      <td>NaN</td>\n",
       "      <td>S</td>\n",
       "    </tr>\n",
       "    <tr>\n",
       "      <th>1308</th>\n",
       "      <td>417</td>\n",
       "      <td>1309</td>\n",
       "      <td>NaN</td>\n",
       "      <td>3</td>\n",
       "      <td>Peter, Master. Michael J</td>\n",
       "      <td>male</td>\n",
       "      <td>NaN</td>\n",
       "      <td>1</td>\n",
       "      <td>1</td>\n",
       "      <td>2668</td>\n",
       "      <td>22.3583</td>\n",
       "      <td>NaN</td>\n",
       "      <td>C</td>\n",
       "    </tr>\n",
       "  </tbody>\n",
       "</table>\n",
       "<p>1309 rows × 13 columns</p>\n",
       "</div>"
      ],
      "text/plain": [
       "      index  PassengerId  Survived  Pclass  \\\n",
       "0         0            1       0.0       3   \n",
       "1         1            2       1.0       1   \n",
       "2         2            3       1.0       3   \n",
       "3         3            4       1.0       1   \n",
       "4         4            5       0.0       3   \n",
       "...     ...          ...       ...     ...   \n",
       "1304    413         1305       NaN       3   \n",
       "1305    414         1306       NaN       1   \n",
       "1306    415         1307       NaN       3   \n",
       "1307    416         1308       NaN       3   \n",
       "1308    417         1309       NaN       3   \n",
       "\n",
       "                                                   Name     Sex   Age  SibSp  \\\n",
       "0                               Braund, Mr. Owen Harris    male  22.0      1   \n",
       "1     Cumings, Mrs. John Bradley (Florence Briggs Th...  female  38.0      1   \n",
       "2                                Heikkinen, Miss. Laina  female  26.0      0   \n",
       "3          Futrelle, Mrs. Jacques Heath (Lily May Peel)  female  35.0      1   \n",
       "4                              Allen, Mr. William Henry    male  35.0      0   \n",
       "...                                                 ...     ...   ...    ...   \n",
       "1304                                 Spector, Mr. Woolf    male   NaN      0   \n",
       "1305                       Oliva y Ocana, Dona. Fermina  female  39.0      0   \n",
       "1306                       Saether, Mr. Simon Sivertsen    male  38.5      0   \n",
       "1307                                Ware, Mr. Frederick    male   NaN      0   \n",
       "1308                           Peter, Master. Michael J    male   NaN      1   \n",
       "\n",
       "      Parch              Ticket      Fare Cabin Embarked  \n",
       "0         0           A/5 21171    7.2500   NaN        S  \n",
       "1         0            PC 17599   71.2833   C85        C  \n",
       "2         0    STON/O2. 3101282    7.9250   NaN        S  \n",
       "3         0              113803   53.1000  C123        S  \n",
       "4         0              373450    8.0500   NaN        S  \n",
       "...     ...                 ...       ...   ...      ...  \n",
       "1304      0           A.5. 3236    8.0500   NaN        S  \n",
       "1305      0            PC 17758  108.9000  C105        C  \n",
       "1306      0  SOTON/O.Q. 3101262    7.2500   NaN        S  \n",
       "1307      0              359309    8.0500   NaN        S  \n",
       "1308      1                2668   22.3583   NaN        C  \n",
       "\n",
       "[1309 rows x 13 columns]"
      ]
     },
     "execution_count": 18,
     "metadata": {},
     "output_type": "execute_result"
    }
   ],
   "source": [
    "df_concat"
   ]
  },
  {
   "cell_type": "code",
   "execution_count": 19,
   "metadata": {
    "execution": {
     "iopub.execute_input": "2024-03-24T17:40:12.309752Z",
     "iopub.status.busy": "2024-03-24T17:40:12.309305Z",
     "iopub.status.idle": "2024-03-24T17:40:12.319096Z",
     "shell.execute_reply": "2024-03-24T17:40:12.318003Z",
     "shell.execute_reply.started": "2024-03-24T17:40:12.309718Z"
    }
   },
   "outputs": [],
   "source": [
    "# remove \"index\" column\n",
    "df_concat.drop(['index'], axis=1, inplace=True)"
   ]
  },
  {
   "cell_type": "code",
   "execution_count": 20,
   "metadata": {
    "execution": {
     "iopub.execute_input": "2024-03-24T17:40:12.527030Z",
     "iopub.status.busy": "2024-03-24T17:40:12.525579Z",
     "iopub.status.idle": "2024-03-24T17:40:12.533875Z",
     "shell.execute_reply": "2024-03-24T17:40:12.532734Z",
     "shell.execute_reply.started": "2024-03-24T17:40:12.526989Z"
    }
   },
   "outputs": [
    {
     "data": {
      "text/plain": [
       "(1309, 12)"
      ]
     },
     "execution_count": 20,
     "metadata": {},
     "output_type": "execute_result"
    }
   ],
   "source": [
    "df_concat.shape"
   ]
  },
  {
   "cell_type": "markdown",
   "metadata": {},
   "source": [
    "## Data Analysis And Visualization"
   ]
  },
  {
   "cell_type": "markdown",
   "metadata": {},
   "source": [
    "### Missing Values"
   ]
  },
  {
   "cell_type": "code",
   "execution_count": 21,
   "metadata": {
    "execution": {
     "iopub.execute_input": "2024-03-24T17:40:13.529734Z",
     "iopub.status.busy": "2024-03-24T17:40:13.528746Z",
     "iopub.status.idle": "2024-03-24T17:40:13.540981Z",
     "shell.execute_reply": "2024-03-24T17:40:13.539458Z",
     "shell.execute_reply.started": "2024-03-24T17:40:13.529680Z"
    }
   },
   "outputs": [],
   "source": [
    "def missingValuesCheck(DataFrame):\n",
    "    #Get number of missing data points per column\n",
    "    missing_values = DataFrame.isnull().sum()\n",
    "    #Missing data in each feature\n",
    "    data = missing_values.values.reshape(1, DataFrame.shape[1])\n",
    "    #Adding percentage of missing data in each feature\n",
    "    data = np.append(data.astype(int), (data / DataFrame.shape[0]) * 100, axis=0)\n",
    "    #Get columns\n",
    "    cols = DataFrame.columns.values\n",
    "    #Showing table\n",
    "    table = pd.DataFrame(data=data, columns=cols)\n",
    "    table.rename(index={0:'No. of Missing Values', 1:'% of Missing Values'}, inplace=True)\n",
    "    display(table)\n",
    "    \n",
    "    #The total missing values\n",
    "    total_missing_values = missing_values.sum()\n",
    "    \n",
    "    #The percentage of data that is missing\n",
    "    total_cells = np.prod(DataFrame.shape)\n",
    "    missing_percentage = total_missing_values / total_cells\n",
    "    print(\"---------------------------------------------\")\n",
    "    print(\"The percentage of total missing values of the data set: {:.2f}%\".format(missing_percentage * 100))"
   ]
  },
  {
   "cell_type": "code",
   "execution_count": 22,
   "metadata": {
    "execution": {
     "iopub.execute_input": "2024-03-24T17:40:13.788630Z",
     "iopub.status.busy": "2024-03-24T17:40:13.788042Z",
     "iopub.status.idle": "2024-03-24T17:40:13.819147Z",
     "shell.execute_reply": "2024-03-24T17:40:13.814901Z",
     "shell.execute_reply.started": "2024-03-24T17:40:13.788582Z"
    }
   },
   "outputs": [
    {
     "data": {
      "text/html": [
       "<div>\n",
       "<style scoped>\n",
       "    .dataframe tbody tr th:only-of-type {\n",
       "        vertical-align: middle;\n",
       "    }\n",
       "\n",
       "    .dataframe tbody tr th {\n",
       "        vertical-align: top;\n",
       "    }\n",
       "\n",
       "    .dataframe thead th {\n",
       "        text-align: right;\n",
       "    }\n",
       "</style>\n",
       "<table border=\"1\" class=\"dataframe\">\n",
       "  <thead>\n",
       "    <tr style=\"text-align: right;\">\n",
       "      <th></th>\n",
       "      <th>PassengerId</th>\n",
       "      <th>Pclass</th>\n",
       "      <th>Name</th>\n",
       "      <th>Sex</th>\n",
       "      <th>Age</th>\n",
       "      <th>SibSp</th>\n",
       "      <th>Parch</th>\n",
       "      <th>Ticket</th>\n",
       "      <th>Fare</th>\n",
       "      <th>Cabin</th>\n",
       "      <th>Embarked</th>\n",
       "    </tr>\n",
       "  </thead>\n",
       "  <tbody>\n",
       "    <tr>\n",
       "      <th>No. of Missing Values</th>\n",
       "      <td>0.0</td>\n",
       "      <td>0.0</td>\n",
       "      <td>0.0</td>\n",
       "      <td>0.0</td>\n",
       "      <td>263.000000</td>\n",
       "      <td>0.0</td>\n",
       "      <td>0.0</td>\n",
       "      <td>0.0</td>\n",
       "      <td>1.000000</td>\n",
       "      <td>1014.000000</td>\n",
       "      <td>2.000000</td>\n",
       "    </tr>\n",
       "    <tr>\n",
       "      <th>% of Missing Values</th>\n",
       "      <td>0.0</td>\n",
       "      <td>0.0</td>\n",
       "      <td>0.0</td>\n",
       "      <td>0.0</td>\n",
       "      <td>20.091673</td>\n",
       "      <td>0.0</td>\n",
       "      <td>0.0</td>\n",
       "      <td>0.0</td>\n",
       "      <td>0.076394</td>\n",
       "      <td>77.463713</td>\n",
       "      <td>0.152788</td>\n",
       "    </tr>\n",
       "  </tbody>\n",
       "</table>\n",
       "</div>"
      ],
      "text/plain": [
       "                       PassengerId  Pclass  Name  Sex         Age  SibSp  \\\n",
       "No. of Missing Values          0.0     0.0   0.0  0.0  263.000000    0.0   \n",
       "% of Missing Values            0.0     0.0   0.0  0.0   20.091673    0.0   \n",
       "\n",
       "                       Parch  Ticket      Fare        Cabin  Embarked  \n",
       "No. of Missing Values    0.0     0.0  1.000000  1014.000000  2.000000  \n",
       "% of Missing Values      0.0     0.0  0.076394    77.463713  0.152788  "
      ]
     },
     "metadata": {},
     "output_type": "display_data"
    },
    {
     "name": "stdout",
     "output_type": "stream",
     "text": [
      "---------------------------------------------\n",
      "The percentage of total missing values of the data set: 8.89%\n"
     ]
    }
   ],
   "source": [
    "# We checking missing values in merged dataset\n",
    "missingValuesCheck(df_concat.drop(['Survived'], axis=1))"
   ]
  },
  {
   "cell_type": "markdown",
   "metadata": {},
   "source": [
    "After checking missing values in merge dataset (the combination between training and testing datasets). We can see that the missing values in some features, about 263 missing values (approximately 20%) in \"Age\" feature, 1 in \"Fare\" feature (nearly 0.07%), 1014 in \"Cabin\" feature (roughly 77%) and 2 in \"Embarked\" feature (roughly 0.15%)\n",
    "\n",
    "We can find the solution to fill in the missing values in \"Age\" feature because the percentage of missing values in this feature is about 20%, but for \"Cabin\" feature, the missing values account for 77% and it is impractical to fill in all of them. The suitable solution to handle missing values in \"Cabin\" feature is dropping this column. "
   ]
  },
  {
   "cell_type": "markdown",
   "metadata": {},
   "source": [
    "### Categorical Variables Distribution"
   ]
  },
  {
   "cell_type": "markdown",
   "metadata": {},
   "source": [
    "Using training dataset for visualization"
   ]
  },
  {
   "cell_type": "code",
   "execution_count": 23,
   "metadata": {
    "execution": {
     "iopub.execute_input": "2024-03-24T17:40:14.634372Z",
     "iopub.status.busy": "2024-03-24T17:40:14.633876Z",
     "iopub.status.idle": "2024-03-24T17:40:14.642800Z",
     "shell.execute_reply": "2024-03-24T17:40:14.641319Z",
     "shell.execute_reply.started": "2024-03-24T17:40:14.634318Z"
    }
   },
   "outputs": [],
   "source": [
    "# A function displaying values on top of the bars\n",
    "def show_values(plot):\n",
    "    for ax in plot.axes.ravel():\n",
    "        # add annotations\n",
    "        for c in ax.containers:\n",
    "            # custom label calculates percent and add an empty string so 0 value bars don't have a number\n",
    "            labels = [f'{w:0.5f}' if (w := v.get_height()) > 0 else '' for v in c]\n",
    "            ax.bar_label(c, labels=labels, label_type='edge', fontsize=8, rotation=0, padding=2)\n",
    "        ax.margins(y=0.2)"
   ]
  },
  {
   "cell_type": "code",
   "execution_count": 24,
   "metadata": {
    "execution": {
     "iopub.execute_input": "2024-03-24T17:40:14.844446Z",
     "iopub.status.busy": "2024-03-24T17:40:14.843217Z",
     "iopub.status.idle": "2024-03-24T17:40:16.068434Z",
     "shell.execute_reply": "2024-03-24T17:40:16.067303Z",
     "shell.execute_reply.started": "2024-03-24T17:40:14.844392Z"
    }
   },
   "outputs": [
    {
     "data": {
      "image/png": "[encoded data removed]",
      "text/plain": [
       "<Figure size 483.875x216 with 1 Axes>"
      ]
     },
     "metadata": {
      "needs_background": "light"
     },
     "output_type": "display_data"
    },
    {
     "data": {
      "image/png": "[encoded data removed]",
      "text/plain": [
       "<Figure size 672.111x300 with 1 Axes>"
      ]
     },
     "metadata": {},
     "output_type": "display_data"
    },
    {
     "data": {
      "image/png": "[encoded data removed]",
      "text/plain": [
       "<Figure size 672.111x300 with 1 Axes>"
      ]
     },
     "metadata": {},
     "output_type": "display_data"
    }
   ],
   "source": [
    "displot_gender = sns.displot(data=df_train[['Sex', 'Survived']], x='Sex', hue='Survived', multiple='stack', height=3, aspect=2)\n",
    "show_values(displot_gender)\n",
    "\n",
    "displot_embarked = sns.displot(data=df_train[['Embarked', 'Survived']], x='Embarked', hue='Survived', multiple='stack', height=3, aspect=2)\n",
    "show_values(displot_embarked)\n",
    "\n",
    "displot_pclass = sns.displot(data=df_train[['Pclass', 'Survived']], x='Pclass', hue='Survived', multiple='stack', height=3, aspect=2)\n",
    "show_values(displot_pclass)\n",
    "plt.show()"
   ]
  },
  {
   "cell_type": "markdown",
   "metadata": {},
   "source": [
    "Based on three plots above, we can see that:\n",
    "\n",
    "1. The first histogram is about the gender of passengers. Female passengers had a better chance of survival than male passengers\n",
    "2. The second histogram is about the embarkation of passengers in three ports (C: Cherbourg, Q: Queenstown, S: Southampton). The number of passengers in Southampton was higher than the rest of 2 ports and it is interesting that the survival rate of passengers in Cherbourg was higher than other ports.\n",
    "3. The third histogram is about the class of passengers (number 1 represents for Upper Class, 2 for Middle Class and 3 for Lower Class). If passengers were from Upper Class, their survival rate was higher than the passengers from Middle Class or Lower Class "
   ]
  },
  {
   "cell_type": "markdown",
   "metadata": {},
   "source": [
    "### Numerical Variables Distribution"
   ]
  },
  {
   "cell_type": "code",
   "execution_count": 25,
   "metadata": {
    "execution": {
     "iopub.execute_input": "2024-03-24T17:40:16.070677Z",
     "iopub.status.busy": "2024-03-24T17:40:16.070218Z",
     "iopub.status.idle": "2024-03-24T17:40:19.268817Z",
     "shell.execute_reply": "2024-03-24T17:40:19.267844Z",
     "shell.execute_reply.started": "2024-03-24T17:40:16.070645Z"
    }
   },
   "outputs": [
    {
     "data": {
      "image/png": "[encoded data removed]",
      "text/plain": [
       "<Figure size 672.111x300 with 1 Axes>"
      ]
     },
     "metadata": {},
     "output_type": "display_data"
    },
    {
     "data": {
      "image/png": "[encoded data removed]",
      "text/plain": [
       "<Figure size 672.111x300 with 1 Axes>"
      ]
     },
     "metadata": {},
     "output_type": "display_data"
    },
    {
     "data": {
      "image/png": "[encoded data removed]",
      "text/plain": [
       "<Figure size 672.111x300 with 1 Axes>"
      ]
     },
     "metadata": {},
     "output_type": "display_data"
    },
    {
     "data": {
      "image/png": "[encoded data removed]",
      "text/plain": [
       "<Figure size 672.111x300 with 1 Axes>"
      ]
     },
     "metadata": {},
     "output_type": "display_data"
    }
   ],
   "source": [
    "displot_sibSp = sns.displot(data=df_train[['SibSp', 'Survived']], x='SibSp', hue='Survived', multiple='stack', height=3, aspect=2)\n",
    "displot_sibSp\n",
    "\n",
    "displot_parch = sns.displot(data=df_train[['Parch', 'Survived']], x='Parch', hue='Survived', multiple='stack', height=3, aspect=2)\n",
    "displot_parch\n",
    "\n",
    "displot_age = sns.displot(data=df_train[['Age', 'Survived']], x='Age', hue='Survived', multiple='stack', height=3, aspect=2)\n",
    "displot_age\n",
    "\n",
    "displot_fare = sns.displot(data=df_train[['Fare', 'Survived']], x='Fare', hue='Survived', multiple='stack', height=3, aspect=2)\n",
    "displot_fare\n",
    "plt.show()"
   ]
  },
  {
   "cell_type": "markdown",
   "metadata": {},
   "source": [
    "#### Boxplot"
   ]
  },
  {
   "cell_type": "code",
   "execution_count": 26,
   "metadata": {
    "execution": {
     "iopub.execute_input": "2024-03-24T17:40:19.270628Z",
     "iopub.status.busy": "2024-03-24T17:40:19.270282Z",
     "iopub.status.idle": "2024-03-24T17:40:19.498842Z",
     "shell.execute_reply": "2024-03-24T17:40:19.497671Z",
     "shell.execute_reply.started": "2024-03-24T17:40:19.270601Z"
    }
   },
   "outputs": [
    {
     "data": {
      "image/png": "[encoded data removed]",
      "text/plain": [
       "<Figure size 640x480 with 1 Axes>"
      ]
     },
     "metadata": {},
     "output_type": "display_data"
    }
   ],
   "source": [
    "sns.boxplot(data=df_train[['Age', 'Survived']], x='Survived', y='Age', hue='Survived')\n",
    "plt.xlabel('Passenger Fate')\n",
    "plt.ylabel('Passenger Age')\n",
    "plt.show()"
   ]
  },
  {
   "cell_type": "code",
   "execution_count": 27,
   "metadata": {
    "execution": {
     "iopub.execute_input": "2024-03-24T17:40:19.500921Z",
     "iopub.status.busy": "2024-03-24T17:40:19.500523Z",
     "iopub.status.idle": "2024-03-24T17:40:19.698409Z",
     "shell.execute_reply": "2024-03-24T17:40:19.697135Z",
     "shell.execute_reply.started": "2024-03-24T17:40:19.500888Z"
    }
   },
   "outputs": [
    {
     "data": {
      "image/png": "[encoded data removed]",
      "text/plain": [
       "<Figure size 640x480 with 1 Axes>"
      ]
     },
     "metadata": {},
     "output_type": "display_data"
    }
   ],
   "source": [
    "sns.boxplot(data=df_train[['Fare', 'Survived']], x='Survived', y='Fare', hue='Survived')\n",
    "plt.xlabel('Passenger Fate')\n",
    "plt.ylabel('Passenger Fare')\n",
    "plt.show()"
   ]
  },
  {
   "cell_type": "markdown",
   "metadata": {},
   "source": [
    "Thehistograms and box plots above can give us information:\n",
    "\n",
    "1. The first two histograms are about the family size. It is interesting that the less people a passenger travelled with, the higher chance to survived (travelled with 1 person or 2 people)\n",
    "2. Look at the histogram of Passenger's age, we can see that it is quite similar for different passenger's fate. However we know that when the titanic sank, there was a rule which was carried out, \"women and children first\". This is a very important information, so we will keep \"Age\" variable\n",
    "3. The box plot for \"Fare\" show that survived people paid more than deceased people. Nevertheless, we can see that there are some outliers that were the people who paid as high as 500 dollars for the ticket and this kind of ticket might be the group ticket (Family members or friends were likely to buy this kind of ticket)\n",
    "\n",
    "=> Based on three points above, we will create two new features, Family Size and Group Ticket (we )"
   ]
  },
  {
   "cell_type": "markdown",
   "metadata": {},
   "source": [
    "## Handling Missing Values"
   ]
  },
  {
   "cell_type": "markdown",
   "metadata": {},
   "source": [
    "### Dealing With Missing Values in \"Cabin\" Variable"
   ]
  },
  {
   "cell_type": "code",
   "execution_count": 28,
   "metadata": {
    "execution": {
     "iopub.execute_input": "2024-03-24T17:40:19.702689Z",
     "iopub.status.busy": "2024-03-24T17:40:19.701668Z",
     "iopub.status.idle": "2024-03-24T17:40:19.709844Z",
     "shell.execute_reply": "2024-03-24T17:40:19.708784Z",
     "shell.execute_reply.started": "2024-03-24T17:40:19.702645Z"
    }
   },
   "outputs": [],
   "source": [
    "df_concat.drop('Cabin', axis=1, inplace=True)"
   ]
  },
  {
   "cell_type": "markdown",
   "metadata": {},
   "source": [
    "### Dealing With Missing Values in \"Age\" Variable"
   ]
  },
  {
   "cell_type": "code",
   "execution_count": 29,
   "metadata": {
    "execution": {
     "iopub.execute_input": "2024-03-24T17:40:19.711594Z",
     "iopub.status.busy": "2024-03-24T17:40:19.711241Z",
     "iopub.status.idle": "2024-03-24T17:40:19.746636Z",
     "shell.execute_reply": "2024-03-24T17:40:19.745343Z",
     "shell.execute_reply.started": "2024-03-24T17:40:19.711565Z"
    }
   },
   "outputs": [
    {
     "data": {
      "text/html": [
       "<div>\n",
       "<style scoped>\n",
       "    .dataframe tbody tr th:only-of-type {\n",
       "        vertical-align: middle;\n",
       "    }\n",
       "\n",
       "    .dataframe tbody tr th {\n",
       "        vertical-align: top;\n",
       "    }\n",
       "\n",
       "    .dataframe thead th {\n",
       "        text-align: right;\n",
       "    }\n",
       "</style>\n",
       "<table border=\"1\" class=\"dataframe\">\n",
       "  <thead>\n",
       "    <tr style=\"text-align: right;\">\n",
       "      <th></th>\n",
       "      <th>PassengerId</th>\n",
       "      <th>Survived</th>\n",
       "      <th>Pclass</th>\n",
       "      <th>Age</th>\n",
       "      <th>SibSp</th>\n",
       "      <th>Parch</th>\n",
       "      <th>Fare</th>\n",
       "    </tr>\n",
       "  </thead>\n",
       "  <tbody>\n",
       "    <tr>\n",
       "      <th>count</th>\n",
       "      <td>1309.000000</td>\n",
       "      <td>891.000000</td>\n",
       "      <td>1309.000000</td>\n",
       "      <td>1046.000000</td>\n",
       "      <td>1309.000000</td>\n",
       "      <td>1309.000000</td>\n",
       "      <td>1308.000000</td>\n",
       "    </tr>\n",
       "    <tr>\n",
       "      <th>mean</th>\n",
       "      <td>655.000000</td>\n",
       "      <td>0.383838</td>\n",
       "      <td>2.294882</td>\n",
       "      <td>29.881138</td>\n",
       "      <td>0.498854</td>\n",
       "      <td>0.385027</td>\n",
       "      <td>33.295479</td>\n",
       "    </tr>\n",
       "    <tr>\n",
       "      <th>std</th>\n",
       "      <td>378.020061</td>\n",
       "      <td>0.486592</td>\n",
       "      <td>0.837836</td>\n",
       "      <td>14.413493</td>\n",
       "      <td>1.041658</td>\n",
       "      <td>0.865560</td>\n",
       "      <td>51.758668</td>\n",
       "    </tr>\n",
       "    <tr>\n",
       "      <th>min</th>\n",
       "      <td>1.000000</td>\n",
       "      <td>0.000000</td>\n",
       "      <td>1.000000</td>\n",
       "      <td>0.170000</td>\n",
       "      <td>0.000000</td>\n",
       "      <td>0.000000</td>\n",
       "      <td>0.000000</td>\n",
       "    </tr>\n",
       "    <tr>\n",
       "      <th>25%</th>\n",
       "      <td>328.000000</td>\n",
       "      <td>0.000000</td>\n",
       "      <td>2.000000</td>\n",
       "      <td>21.000000</td>\n",
       "      <td>0.000000</td>\n",
       "      <td>0.000000</td>\n",
       "      <td>7.895800</td>\n",
       "    </tr>\n",
       "    <tr>\n",
       "      <th>50%</th>\n",
       "      <td>655.000000</td>\n",
       "      <td>0.000000</td>\n",
       "      <td>3.000000</td>\n",
       "      <td>28.000000</td>\n",
       "      <td>0.000000</td>\n",
       "      <td>0.000000</td>\n",
       "      <td>14.454200</td>\n",
       "    </tr>\n",
       "    <tr>\n",
       "      <th>75%</th>\n",
       "      <td>982.000000</td>\n",
       "      <td>1.000000</td>\n",
       "      <td>3.000000</td>\n",
       "      <td>39.000000</td>\n",
       "      <td>1.000000</td>\n",
       "      <td>0.000000</td>\n",
       "      <td>31.275000</td>\n",
       "    </tr>\n",
       "    <tr>\n",
       "      <th>max</th>\n",
       "      <td>1309.000000</td>\n",
       "      <td>1.000000</td>\n",
       "      <td>3.000000</td>\n",
       "      <td>80.000000</td>\n",
       "      <td>8.000000</td>\n",
       "      <td>9.000000</td>\n",
       "      <td>512.329200</td>\n",
       "    </tr>\n",
       "  </tbody>\n",
       "</table>\n",
       "</div>"
      ],
      "text/plain": [
       "       PassengerId    Survived       Pclass          Age        SibSp  \\\n",
       "count  1309.000000  891.000000  1309.000000  1046.000000  1309.000000   \n",
       "mean    655.000000    0.383838     2.294882    29.881138     0.498854   \n",
       "std     378.020061    0.486592     0.837836    14.413493     1.041658   \n",
       "min       1.000000    0.000000     1.000000     0.170000     0.000000   \n",
       "25%     328.000000    0.000000     2.000000    21.000000     0.000000   \n",
       "50%     655.000000    0.000000     3.000000    28.000000     0.000000   \n",
       "75%     982.000000    1.000000     3.000000    39.000000     1.000000   \n",
       "max    1309.000000    1.000000     3.000000    80.000000     8.000000   \n",
       "\n",
       "             Parch         Fare  \n",
       "count  1309.000000  1308.000000  \n",
       "mean      0.385027    33.295479  \n",
       "std       0.865560    51.758668  \n",
       "min       0.000000     0.000000  \n",
       "25%       0.000000     7.895800  \n",
       "50%       0.000000    14.454200  \n",
       "75%       0.000000    31.275000  \n",
       "max       9.000000   512.329200  "
      ]
     },
     "execution_count": 29,
     "metadata": {},
     "output_type": "execute_result"
    }
   ],
   "source": [
    "df_concat.describe()"
   ]
  },
  {
   "cell_type": "markdown",
   "metadata": {},
   "source": [
    "- Look at a table above, we can see the distribution of \"Age\" variable. The mean age is about 29.88, the median age is 28, min is 0.17 and max is 80\n",
    "\n",
    "- The mean age and the median age are very close, so the easiest way would be using the median age value to replace all missing values (this solution might not be the best option here)\n",
    "\n",
    "- In order to explore the relationship between \"Age\" variable and other variables, we will find more clues. The box plots below decribe the relationship between age and socio-economic status"
   ]
  },
  {
   "cell_type": "code",
   "execution_count": 30,
   "metadata": {
    "execution": {
     "iopub.execute_input": "2024-03-24T17:40:19.749314Z",
     "iopub.status.busy": "2024-03-24T17:40:19.748264Z",
     "iopub.status.idle": "2024-03-24T17:40:20.002666Z",
     "shell.execute_reply": "2024-03-24T17:40:20.001227Z",
     "shell.execute_reply.started": "2024-03-24T17:40:19.749271Z"
    }
   },
   "outputs": [
    {
     "data": {
      "image/png": "[encoded data removed]",
      "text/plain": [
       "<Figure size 640x480 with 1 Axes>"
      ]
     },
     "metadata": {},
     "output_type": "display_data"
    }
   ],
   "source": [
    "pclass_age_boxplot = sns.boxplot(data=df_train[['Age', 'Pclass']], x='Pclass', y='Age', hue='Pclass')\n",
    "sns.move_legend(pclass_age_boxplot, \"upper left\", bbox_to_anchor=(.65, .9))\n",
    "plt.xlabel('Socio-economic status (SES)')\n",
    "plt.ylabel(\"Passenger's age\")\n",
    "plt.show()"
   ]
  },
  {
   "cell_type": "markdown",
   "metadata": {},
   "source": [
    "Based on the box plots above, we can see that the median age is increasing along with the social class, so we can use this important information to handle the missing values in \"Age\" variable. If the passenger's age is missing, we will look at the social class first, then use the corresponding median age of that passenger's class to replace missing value (This solution is much more accurate than just using the overall median)\n",
    "\n",
    "But in this particular dataset, there is actually a better way to deal with the miss values in \"Age\" variable. Let's have a look at some of the passenger's name first."
   ]
  },
  {
   "cell_type": "code",
   "execution_count": 31,
   "metadata": {
    "execution": {
     "iopub.execute_input": "2024-03-24T17:40:20.004898Z",
     "iopub.status.busy": "2024-03-24T17:40:20.004534Z",
     "iopub.status.idle": "2024-03-24T17:40:20.017085Z",
     "shell.execute_reply": "2024-03-24T17:40:20.015898Z",
     "shell.execute_reply.started": "2024-03-24T17:40:20.004869Z"
    }
   },
   "outputs": [
    {
     "data": {
      "text/html": [
       "<div>\n",
       "<style scoped>\n",
       "    .dataframe tbody tr th:only-of-type {\n",
       "        vertical-align: middle;\n",
       "    }\n",
       "\n",
       "    .dataframe tbody tr th {\n",
       "        vertical-align: top;\n",
       "    }\n",
       "\n",
       "    .dataframe thead th {\n",
       "        text-align: right;\n",
       "    }\n",
       "</style>\n",
       "<table border=\"1\" class=\"dataframe\">\n",
       "  <thead>\n",
       "    <tr style=\"text-align: right;\">\n",
       "      <th></th>\n",
       "      <th>Name</th>\n",
       "    </tr>\n",
       "  </thead>\n",
       "  <tbody>\n",
       "    <tr>\n",
       "      <th>0</th>\n",
       "      <td>Braund, Mr. Owen Harris</td>\n",
       "    </tr>\n",
       "    <tr>\n",
       "      <th>1</th>\n",
       "      <td>Cumings, Mrs. John Bradley (Florence Briggs Th...</td>\n",
       "    </tr>\n",
       "    <tr>\n",
       "      <th>2</th>\n",
       "      <td>Heikkinen, Miss. Laina</td>\n",
       "    </tr>\n",
       "    <tr>\n",
       "      <th>3</th>\n",
       "      <td>Futrelle, Mrs. Jacques Heath (Lily May Peel)</td>\n",
       "    </tr>\n",
       "    <tr>\n",
       "      <th>4</th>\n",
       "      <td>Allen, Mr. William Henry</td>\n",
       "    </tr>\n",
       "  </tbody>\n",
       "</table>\n",
       "</div>"
      ],
      "text/plain": [
       "                                                Name\n",
       "0                            Braund, Mr. Owen Harris\n",
       "1  Cumings, Mrs. John Bradley (Florence Briggs Th...\n",
       "2                             Heikkinen, Miss. Laina\n",
       "3       Futrelle, Mrs. Jacques Heath (Lily May Peel)\n",
       "4                           Allen, Mr. William Henry"
      ]
     },
     "execution_count": 31,
     "metadata": {},
     "output_type": "execute_result"
    }
   ],
   "source": [
    "df_concat[['Name']].head()"
   ]
  },
  {
   "cell_type": "markdown",
   "metadata": {},
   "source": [
    "We can see that all the passengers'names follow the same pattern: first name + title + last name, and the title can be very useful. The title can probably suggest the passenger's gender, age, and socio-economic status. It is not only for the purpose of imputing missing values, but also a part of feature engineering. Now we will extract the titles from passengers'names, and we will create a new variable called \"Title\" to store them in the data frame"
   ]
  },
  {
   "cell_type": "code",
   "execution_count": null,
   "metadata": {
    "execution": {
     "iopub.execute_input": "2024-03-24T17:40:20.019488Z",
     "iopub.status.busy": "2024-03-24T17:40:20.018901Z",
     "iopub.status.idle": "2024-03-24T17:41:37.298123Z",
     "shell.execute_reply": "2024-03-24T17:41:37.296731Z",
     "shell.execute_reply.started": "2024-03-24T17:40:20.019446Z"
    }
   },
   "outputs": [],
   "source": [
    "# Extract tile from name\n",
    "title = []\n",
    "for i in range(len(df_concat)):\n",
    "    for j in range(df_concat['Name'].str.split(pat=' ', expand=True).shape[1]):\n",
    "        if df_concat['Name'].str.split(pat=' ', expand=True)[j][i] != None:\n",
    "            if '.' in df_concat['Name'].str.split(pat=' ', expand=True)[j][i] and len(df_concat['Name'].str.split(pat=' ', expand=True)[j][i]) > 2:\n",
    "                title.append(df_concat['Name'].str.split(pat=' ', expand=True)[j][i])"
   ]
  },
  {
   "cell_type": "code",
   "execution_count": null,
   "metadata": {
    "execution": {
     "iopub.execute_input": "2024-03-24T17:41:37.302781Z",
     "iopub.status.busy": "2024-03-24T17:41:37.302207Z",
     "iopub.status.idle": "2024-03-24T17:41:37.309229Z",
     "shell.execute_reply": "2024-03-24T17:41:37.307946Z",
     "shell.execute_reply.started": "2024-03-24T17:41:37.302733Z"
    }
   },
   "outputs": [],
   "source": [
    "df_concat['Title'] = title"
   ]
  },
  {
   "cell_type": "code",
   "execution_count": null,
   "metadata": {
    "execution": {
     "iopub.execute_input": "2024-03-24T17:41:37.310879Z",
     "iopub.status.busy": "2024-03-24T17:41:37.310559Z",
     "iopub.status.idle": "2024-03-24T17:41:37.337830Z",
     "shell.execute_reply": "2024-03-24T17:41:37.336458Z",
     "shell.execute_reply.started": "2024-03-24T17:41:37.310853Z"
    }
   },
   "outputs": [],
   "source": [
    "df_concat"
   ]
  },
  {
   "cell_type": "markdown",
   "metadata": {},
   "source": [
    "After creating new variable named \"Title\", we will take a closer look at this variable. The data below illustrates the number of passengers with each title, including the number of missing values in \"Age\" variable, and it also shows us the mean and median age for each title."
   ]
  },
  {
   "cell_type": "code",
   "execution_count": null,
   "metadata": {
    "execution": {
     "iopub.execute_input": "2024-03-24T17:41:37.339877Z",
     "iopub.status.busy": "2024-03-24T17:41:37.339467Z",
     "iopub.status.idle": "2024-03-24T17:41:37.356671Z",
     "shell.execute_reply": "2024-03-24T17:41:37.355262Z",
     "shell.execute_reply.started": "2024-03-24T17:41:37.339843Z"
    }
   },
   "outputs": [],
   "source": [
    "df_concat.groupby(['Title'])['Age'].mean()"
   ]
  },
  {
   "cell_type": "code",
   "execution_count": null,
   "metadata": {
    "execution": {
     "iopub.execute_input": "2024-03-24T17:41:37.359454Z",
     "iopub.status.busy": "2024-03-24T17:41:37.358393Z",
     "iopub.status.idle": "2024-03-24T17:41:37.377334Z",
     "shell.execute_reply": "2024-03-24T17:41:37.375735Z",
     "shell.execute_reply.started": "2024-03-24T17:41:37.359392Z"
    }
   },
   "outputs": [],
   "source": [
    "df_concat.groupby(['Title'])['Age'].median()"
   ]
  },
  {
   "cell_type": "code",
   "execution_count": null,
   "metadata": {
    "execution": {
     "iopub.execute_input": "2024-03-24T17:41:37.380321Z",
     "iopub.status.busy": "2024-03-24T17:41:37.379804Z",
     "iopub.status.idle": "2024-03-24T17:41:37.397621Z",
     "shell.execute_reply": "2024-03-24T17:41:37.395888Z",
     "shell.execute_reply.started": "2024-03-24T17:41:37.380271Z"
    }
   },
   "outputs": [],
   "source": [
    "df_concat['Na_Age'] = df_concat['Age'].isnull()\n",
    "df_concat.groupby(['Title'])['Na_Age'].sum()"
   ]
  },
  {
   "cell_type": "code",
   "execution_count": null,
   "metadata": {
    "execution": {
     "iopub.execute_input": "2024-03-24T17:41:37.400154Z",
     "iopub.status.busy": "2024-03-24T17:41:37.399694Z",
     "iopub.status.idle": "2024-03-24T17:41:37.407181Z",
     "shell.execute_reply": "2024-03-24T17:41:37.406207Z",
     "shell.execute_reply.started": "2024-03-24T17:41:37.400110Z"
    }
   },
   "outputs": [],
   "source": [
    "#drop Na_Age column\n",
    "df_concat.drop('Na_Age', axis=1, inplace=True)"
   ]
  },
  {
   "cell_type": "markdown",
   "metadata": {},
   "source": [
    "Now we will replace the missing values in 'Age' variable with the median age based on the 'Title'"
   ]
  },
  {
   "cell_type": "code",
   "execution_count": null,
   "metadata": {
    "execution": {
     "iopub.execute_input": "2024-03-24T17:41:37.408922Z",
     "iopub.status.busy": "2024-03-24T17:41:37.408581Z",
     "iopub.status.idle": "2024-03-24T17:41:37.435139Z",
     "shell.execute_reply": "2024-03-24T17:41:37.433729Z",
     "shell.execute_reply.started": "2024-03-24T17:41:37.408894Z"
    }
   },
   "outputs": [],
   "source": [
    "title_dict = dict()\n",
    "for t in df_concat.groupby(['Title'])['Age'].all().index:\n",
    "    title_dict.update({t: df_concat.groupby(['Title'])['Age'].median()[t]})"
   ]
  },
  {
   "cell_type": "code",
   "execution_count": null,
   "metadata": {
    "execution": {
     "iopub.execute_input": "2024-03-24T17:41:37.437225Z",
     "iopub.status.busy": "2024-03-24T17:41:37.436519Z",
     "iopub.status.idle": "2024-03-24T17:41:37.444749Z",
     "shell.execute_reply": "2024-03-24T17:41:37.443576Z",
     "shell.execute_reply.started": "2024-03-24T17:41:37.437190Z"
    }
   },
   "outputs": [],
   "source": [
    "title_dict"
   ]
  },
  {
   "cell_type": "code",
   "execution_count": null,
   "metadata": {
    "execution": {
     "iopub.execute_input": "2024-03-24T17:34:51.805451Z",
     "iopub.status.busy": "2024-03-24T17:34:51.805000Z",
     "iopub.status.idle": "2024-03-24T17:34:51.812342Z",
     "shell.execute_reply": "2024-03-24T17:34:51.811100Z",
     "shell.execute_reply.started": "2024-03-24T17:34:51.805417Z"
    }
   },
   "outputs": [],
   "source": [
    "# replace missing values\n",
    "for i in df_concat[df_concat['Age'].isnull() == True].index:\n",
    "    df_concat['Age'][i] = title_dict[df_concat['Title'][i]]"
   ]
  },
  {
   "cell_type": "code",
   "execution_count": null,
   "metadata": {
    "execution": {
     "iopub.execute_input": "2024-03-24T17:43:23.662769Z",
     "iopub.status.busy": "2024-03-24T17:43:23.661583Z",
     "iopub.status.idle": "2024-03-24T17:43:23.690374Z",
     "shell.execute_reply": "2024-03-24T17:43:23.689010Z",
     "shell.execute_reply.started": "2024-03-24T17:43:23.662719Z"
    }
   },
   "outputs": [],
   "source": [
    "missingValuesCheck(df_concat.drop(['Survived'], axis=1))"
   ]
  },
  {
   "cell_type": "markdown",
   "metadata": {},
   "source": [
    "### Dealing With Missing Values in \"Embarked\" Variable"
   ]
  },
  {
   "cell_type": "code",
   "execution_count": null,
   "metadata": {
    "execution": {
     "iopub.execute_input": "2024-03-24T17:43:25.292254Z",
     "iopub.status.busy": "2024-03-24T17:43:25.291536Z",
     "iopub.status.idle": "2024-03-24T17:43:25.301700Z",
     "shell.execute_reply": "2024-03-24T17:43:25.300264Z",
     "shell.execute_reply.started": "2024-03-24T17:43:25.292204Z"
    }
   },
   "outputs": [],
   "source": [
    "df_concat['Embarked'].mode().values[0]"
   ]
  },
  {
   "cell_type": "markdown",
   "metadata": {},
   "source": [
    "There are only 2 missing values in \"Embarked\" variable. In order to handle missing values, we can fill in empty cells with 'S' because most of the passengers are embarked from port S abbreviation for Southampton (we can find out it by using mode in statistics)."
   ]
  },
  {
   "cell_type": "code",
   "execution_count": null,
   "metadata": {
    "execution": {
     "iopub.execute_input": "2024-03-24T17:43:25.844790Z",
     "iopub.status.busy": "2024-03-24T17:43:25.844274Z",
     "iopub.status.idle": "2024-03-24T17:43:25.854519Z",
     "shell.execute_reply": "2024-03-24T17:43:25.853286Z",
     "shell.execute_reply.started": "2024-03-24T17:43:25.844751Z"
    }
   },
   "outputs": [],
   "source": [
    "df_concat['Embarked'].fillna(df_concat['Embarked'].mode().values[0], inplace=True)"
   ]
  },
  {
   "cell_type": "code",
   "execution_count": null,
   "metadata": {
    "execution": {
     "iopub.execute_input": "2024-03-24T17:43:26.104406Z",
     "iopub.status.busy": "2024-03-24T17:43:26.103028Z",
     "iopub.status.idle": "2024-03-24T17:43:26.131229Z",
     "shell.execute_reply": "2024-03-24T17:43:26.130056Z",
     "shell.execute_reply.started": "2024-03-24T17:43:26.104327Z"
    }
   },
   "outputs": [],
   "source": [
    "missingValuesCheck(df_concat.drop(['Survived'], axis=1))"
   ]
  },
  {
   "cell_type": "markdown",
   "metadata": {},
   "source": [
    "### Dealing With Missing Values in \"Fare\" Variable"
   ]
  },
  {
   "cell_type": "code",
   "execution_count": null,
   "metadata": {
    "execution": {
     "iopub.execute_input": "2024-03-24T17:43:26.518070Z",
     "iopub.status.busy": "2024-03-24T17:43:26.517615Z",
     "iopub.status.idle": "2024-03-24T17:43:26.547157Z",
     "shell.execute_reply": "2024-03-24T17:43:26.546333Z",
     "shell.execute_reply.started": "2024-03-24T17:43:26.518033Z"
    }
   },
   "outputs": [],
   "source": [
    "df_concat[df_concat['Fare'] == 0]"
   ]
  },
  {
   "cell_type": "markdown",
   "metadata": {},
   "source": [
    "The \"Fare\" variable is a litle bit tricky. Although there is only 1 missing value, we can see from the summary statistics that there are some 0 fares in the table above. This kind of ticket might be the ticket for baby passengers, they are just too young to be charged. But dive deep into the details, it turned out differently. We can clearly see that on in the table above, these people with 0 fares are not babies and it might be some kind of error. We can handle these zeros the same as missing values."
   ]
  },
  {
   "cell_type": "code",
   "execution_count": null,
   "metadata": {
    "execution": {
     "iopub.execute_input": "2024-03-24T17:43:26.912309Z",
     "iopub.status.busy": "2024-03-24T17:43:26.911542Z",
     "iopub.status.idle": "2024-03-24T17:43:27.131678Z",
     "shell.execute_reply": "2024-03-24T17:43:27.130455Z",
     "shell.execute_reply.started": "2024-03-24T17:43:26.912258Z"
    }
   },
   "outputs": [],
   "source": [
    "pclass_age_boxplot = sns.boxplot(data=df_concat[['Fare', 'Pclass']], x='Pclass', y='Fare', hue='Pclass')\n",
    "sns.move_legend(pclass_age_boxplot, \"upper left\", bbox_to_anchor=(.65, .9))\n",
    "plt.xlabel('Socio-economic status (SES)')\n",
    "plt.ylabel(\"Passenger's Fare\")\n",
    "plt.show()"
   ]
  },
  {
   "cell_type": "code",
   "execution_count": null,
   "metadata": {
    "execution": {
     "iopub.execute_input": "2024-03-24T17:43:27.134847Z",
     "iopub.status.busy": "2024-03-24T17:43:27.134093Z",
     "iopub.status.idle": "2024-03-24T17:43:27.145458Z",
     "shell.execute_reply": "2024-03-24T17:43:27.143998Z",
     "shell.execute_reply.started": "2024-03-24T17:43:27.134797Z"
    }
   },
   "outputs": [],
   "source": [
    "# median values of fare for 3 socio-economic status\n",
    "df_concat.groupby(['Pclass'])['Fare'].median()"
   ]
  },
  {
   "cell_type": "markdown",
   "metadata": {},
   "source": [
    "- We can see that the median values of fare are 60 dollars, 15.045 dollars and 8.05 dollars for Upper, middle and lower class respectively.\n",
    "- We will use these values to replace missing values in \"Fare\" variable for each passenger's class."
   ]
  },
  {
   "cell_type": "code",
   "execution_count": null,
   "metadata": {
    "execution": {
     "iopub.execute_input": "2024-03-24T17:43:27.525591Z",
     "iopub.status.busy": "2024-03-24T17:43:27.525117Z",
     "iopub.status.idle": "2024-03-24T17:43:27.538769Z",
     "shell.execute_reply": "2024-03-24T17:43:27.537255Z",
     "shell.execute_reply.started": "2024-03-24T17:43:27.525556Z"
    }
   },
   "outputs": [],
   "source": [
    "# store median fare for each passenger's class in dict\n",
    "pclass_fare_list = dict()\n",
    "for i in df_concat.groupby(['Pclass']).all().index:\n",
    "    pclass_fare_list.update({i: df_concat.groupby(['Pclass'])['Fare'].median()[i]})"
   ]
  },
  {
   "cell_type": "code",
   "execution_count": null,
   "metadata": {
    "execution": {
     "iopub.execute_input": "2024-03-24T17:43:27.736715Z",
     "iopub.status.busy": "2024-03-24T17:43:27.736241Z",
     "iopub.status.idle": "2024-03-24T17:43:27.744154Z",
     "shell.execute_reply": "2024-03-24T17:43:27.742957Z",
     "shell.execute_reply.started": "2024-03-24T17:43:27.736678Z"
    }
   },
   "outputs": [],
   "source": [
    "pclass_fare_list"
   ]
  },
  {
   "cell_type": "code",
   "execution_count": null,
   "metadata": {
    "execution": {
     "iopub.execute_input": "2024-03-24T17:43:27.961608Z",
     "iopub.status.busy": "2024-03-24T17:43:27.960813Z",
     "iopub.status.idle": "2024-03-24T17:43:27.971625Z",
     "shell.execute_reply": "2024-03-24T17:43:27.970345Z",
     "shell.execute_reply.started": "2024-03-24T17:43:27.961564Z"
    }
   },
   "outputs": [],
   "source": [
    "# replace missing values\n",
    "for i in df_concat[df_concat['Fare'].isnull() == True].index:\n",
    "    df_concat['Fare'][i] = pclass_fare_list[df_concat['Pclass'][i]]"
   ]
  },
  {
   "cell_type": "code",
   "execution_count": null,
   "metadata": {
    "execution": {
     "iopub.execute_input": "2024-03-24T17:43:28.192513Z",
     "iopub.status.busy": "2024-03-24T17:43:28.191594Z",
     "iopub.status.idle": "2024-03-24T17:43:28.221430Z",
     "shell.execute_reply": "2024-03-24T17:43:28.220052Z",
     "shell.execute_reply.started": "2024-03-24T17:43:28.192468Z"
    }
   },
   "outputs": [],
   "source": [
    "missingValuesCheck(df_concat.drop(['Survived'], axis=1))"
   ]
  },
  {
   "cell_type": "markdown",
   "metadata": {},
   "source": [
    "After the imputation, there is no missing values left in \"Fare\" variable "
   ]
  },
  {
   "cell_type": "markdown",
   "metadata": {},
   "source": [
    "## Feature Engineering"
   ]
  },
  {
   "cell_type": "markdown",
   "metadata": {},
   "source": [
    "- Now, we will create some new features based on the exploratory analysis.\n",
    "- there are 4 new variable named \"Title\",\"famSize\", \"group\", and \"wom_chd\""
   ]
  },
  {
   "cell_type": "markdown",
   "metadata": {},
   "source": [
    "### Title Group"
   ]
  },
  {
   "cell_type": "markdown",
   "metadata": {},
   "source": [
    "- we can clearly see that for some titles, there are only a few people on the ship. We need to merge the similar ones into groups.\n",
    "\n",
    "Let’s see what the distribution of Age would look like across all these titles. It may give us some idea of how to create groups for titles."
   ]
  },
  {
   "cell_type": "code",
   "execution_count": null,
   "metadata": {
    "execution": {
     "iopub.execute_input": "2024-03-24T17:43:29.449123Z",
     "iopub.status.busy": "2024-03-24T17:43:29.448256Z",
     "iopub.status.idle": "2024-03-24T17:43:29.778583Z",
     "shell.execute_reply": "2024-03-24T17:43:29.777341Z",
     "shell.execute_reply.started": "2024-03-24T17:43:29.449059Z"
    }
   },
   "outputs": [],
   "source": [
    "plt.figure(figsize=(10, 5))\n",
    "sns.boxplot(data=df_concat[(df_concat['Pclass']==1) & (df_concat['Sex']=='male')], x='Title', y='Age')\n",
    "plt.title('Distribution filter by Upper class and male gender')\n",
    "plt.show()"
   ]
  },
  {
   "cell_type": "code",
   "execution_count": null,
   "metadata": {
    "execution": {
     "iopub.execute_input": "2024-03-24T17:43:29.781725Z",
     "iopub.status.busy": "2024-03-24T17:43:29.780991Z",
     "iopub.status.idle": "2024-03-24T17:43:30.069624Z",
     "shell.execute_reply": "2024-03-24T17:43:30.068428Z",
     "shell.execute_reply.started": "2024-03-24T17:43:29.781679Z"
    }
   },
   "outputs": [],
   "source": [
    "plt.figure(figsize=(10, 5))\n",
    "sns.boxplot(data=df_concat[(df_concat['Pclass']==1) & (df_concat['Sex']=='female')], x='Title', y='Age')\n",
    "plt.title('Distribution filter by Upper class and female gender')\n",
    "plt.show()"
   ]
  },
  {
   "cell_type": "code",
   "execution_count": null,
   "metadata": {
    "execution": {
     "iopub.execute_input": "2024-03-24T17:43:30.629171Z",
     "iopub.status.busy": "2024-03-24T17:43:30.628282Z",
     "iopub.status.idle": "2024-03-24T17:43:30.920806Z",
     "shell.execute_reply": "2024-03-24T17:43:30.919533Z",
     "shell.execute_reply.started": "2024-03-24T17:43:30.629130Z"
    }
   },
   "outputs": [],
   "source": [
    "plt.figure(figsize=(10, 5))\n",
    "sns.boxplot(data=df_concat[(df_concat['Pclass']==2) & (df_concat['Sex']=='male')], x='Title', y='Age', hue='Sex')\n",
    "plt.title('Distribution filter by Middle class and male gender')\n",
    "plt.show()"
   ]
  },
  {
   "cell_type": "code",
   "execution_count": null,
   "metadata": {
    "execution": {
     "iopub.execute_input": "2024-03-24T17:43:30.922972Z",
     "iopub.status.busy": "2024-03-24T17:43:30.922607Z",
     "iopub.status.idle": "2024-03-24T17:43:31.175702Z",
     "shell.execute_reply": "2024-03-24T17:43:31.174547Z",
     "shell.execute_reply.started": "2024-03-24T17:43:30.922941Z"
    }
   },
   "outputs": [],
   "source": [
    "plt.figure(figsize=(10, 5))\n",
    "sns.boxplot(data=df_concat[(df_concat['Pclass']==2) & (df_concat['Sex']=='female')], x='Title', y='Age', hue='Sex')\n",
    "plt.title('Distribution filter by Middle class and female gender')\n",
    "plt.show()"
   ]
  },
  {
   "cell_type": "code",
   "execution_count": null,
   "metadata": {
    "execution": {
     "iopub.execute_input": "2024-03-24T17:43:31.178138Z",
     "iopub.status.busy": "2024-03-24T17:43:31.177769Z",
     "iopub.status.idle": "2024-03-24T17:43:31.418840Z",
     "shell.execute_reply": "2024-03-24T17:43:31.417442Z",
     "shell.execute_reply.started": "2024-03-24T17:43:31.178107Z"
    }
   },
   "outputs": [],
   "source": [
    "plt.figure(figsize=(10, 5))\n",
    "sns.boxplot(data=df_concat[(df_concat['Pclass']==3) & (df_concat['Sex']=='male')], x='Title', y='Age', hue='Sex')\n",
    "plt.title('Distribution filter by Lower class and male gender')\n",
    "plt.show()"
   ]
  },
  {
   "cell_type": "code",
   "execution_count": null,
   "metadata": {
    "execution": {
     "iopub.execute_input": "2024-03-24T17:43:31.421307Z",
     "iopub.status.busy": "2024-03-24T17:43:31.420922Z",
     "iopub.status.idle": "2024-03-24T17:43:31.656702Z",
     "shell.execute_reply": "2024-03-24T17:43:31.655653Z",
     "shell.execute_reply.started": "2024-03-24T17:43:31.421276Z"
    }
   },
   "outputs": [],
   "source": [
    "plt.figure(figsize=(10, 5))\n",
    "sns.boxplot(data=df_concat[(df_concat['Pclass']==3) & (df_concat['Sex']=='female')], x='Title', y='Age', hue='Sex')\n",
    "plt.title('Distribution filter by Lower class and female gender')\n",
    "plt.show()"
   ]
  },
  {
   "cell_type": "markdown",
   "metadata": {},
   "source": [
    "Look at these plots above, we can see that:\n",
    "1. For females the titles “Mlle”, “Mme”, “the Countess”, “Dona”, “Lady”, and “Dr” are all titles for upper classa; “Ms” only appears in middle or lower class, and its age is closer to “Mrs”.\n",
    "2. For males, “Jonkheer”, “Don”, “Rev”, “Major”, “Dr”, “Sir”, “Col”, and “Capt” are either middle or upper class.\n",
    "\n",
    "We will put \"Ms\" in the same group with \"Mrs\", and all the other title mentioned above will be in a new title group called \"Rare\"."
   ]
  },
  {
   "cell_type": "code",
   "execution_count": null,
   "metadata": {
    "execution": {
     "iopub.execute_input": "2024-03-24T17:43:31.818262Z",
     "iopub.status.busy": "2024-03-24T17:43:31.817801Z",
     "iopub.status.idle": "2024-03-24T17:43:31.827691Z",
     "shell.execute_reply": "2024-03-24T17:43:31.826442Z",
     "shell.execute_reply.started": "2024-03-24T17:43:31.818227Z"
    }
   },
   "outputs": [],
   "source": [
    "# Group titles\n",
    "for index in df_concat[df_concat['Title']=='Ms.'].index:\n",
    "    df_concat['Title'][index] = 'Miss.'"
   ]
  },
  {
   "cell_type": "code",
   "execution_count": null,
   "metadata": {
    "execution": {
     "iopub.execute_input": "2024-03-24T17:43:32.094918Z",
     "iopub.status.busy": "2024-03-24T17:43:32.094083Z",
     "iopub.status.idle": "2024-03-24T17:43:32.102402Z",
     "shell.execute_reply": "2024-03-24T17:43:32.101027Z",
     "shell.execute_reply.started": "2024-03-24T17:43:32.094877Z"
    }
   },
   "outputs": [],
   "source": [
    "noble_titles = ['Mlle.', 'Mme.', 'Countess.', 'Dona.', 'Lady.', 'Jonkheer.', 'Don.', 'Rev.', \\\n",
    "                'Major.', 'Dr.', 'Sir.', 'Col.', 'Capt.']"
   ]
  },
  {
   "cell_type": "code",
   "execution_count": null,
   "metadata": {
    "execution": {
     "iopub.execute_input": "2024-03-24T17:43:32.387468Z",
     "iopub.status.busy": "2024-03-24T17:43:32.386592Z",
     "iopub.status.idle": "2024-03-24T17:43:32.422862Z",
     "shell.execute_reply": "2024-03-24T17:43:32.421444Z",
     "shell.execute_reply.started": "2024-03-24T17:43:32.387424Z"
    }
   },
   "outputs": [],
   "source": [
    "for til in noble_titles:\n",
    "    for index in df_concat[df_concat['Title']==til].index:\n",
    "        df_concat['Title'][index] = 'Rare.'"
   ]
  },
  {
   "cell_type": "markdown",
   "metadata": {},
   "source": [
    "We can see now the number of passengers with each new title is more representative. And the age distribution within each title group is much more distinguishable."
   ]
  },
  {
   "cell_type": "code",
   "execution_count": null,
   "metadata": {
    "execution": {
     "iopub.execute_input": "2024-03-24T17:43:32.994478Z",
     "iopub.status.busy": "2024-03-24T17:43:32.993573Z",
     "iopub.status.idle": "2024-03-24T17:43:33.009237Z",
     "shell.execute_reply": "2024-03-24T17:43:33.007996Z",
     "shell.execute_reply.started": "2024-03-24T17:43:32.994428Z"
    }
   },
   "outputs": [],
   "source": [
    "pd.DataFrame(data=df_concat.groupby('Title')['Age'].count())"
   ]
  },
  {
   "cell_type": "markdown",
   "metadata": {},
   "source": [
    "Below is the proportion of survival of each title, we will see that 'Mrs.' had the highest percentage of survival and the lowest was 'Mr.'"
   ]
  },
  {
   "cell_type": "code",
   "execution_count": null,
   "metadata": {
    "execution": {
     "iopub.execute_input": "2024-03-24T17:43:33.438334Z",
     "iopub.status.busy": "2024-03-24T17:43:33.437899Z",
     "iopub.status.idle": "2024-03-24T17:43:33.449799Z",
     "shell.execute_reply": "2024-03-24T17:43:33.448557Z",
     "shell.execute_reply.started": "2024-03-24T17:43:33.438299Z"
    }
   },
   "outputs": [],
   "source": [
    "print('The proportion of survival of each title')\n",
    "df_concat.groupby(['Title'])['Survived'].mean()"
   ]
  },
  {
   "cell_type": "code",
   "execution_count": null,
   "metadata": {
    "execution": {
     "iopub.execute_input": "2024-03-24T17:43:33.741333Z",
     "iopub.status.busy": "2024-03-24T17:43:33.740475Z",
     "iopub.status.idle": "2024-03-24T17:43:34.099965Z",
     "shell.execute_reply": "2024-03-24T17:43:34.098483Z",
     "shell.execute_reply.started": "2024-03-24T17:43:33.741281Z"
    }
   },
   "outputs": [],
   "source": [
    "plt.figure(figsize=(10, 5))\n",
    "age_title_boxplot = sns.boxplot(data=df_concat, x='Title', y='Age', hue='Title')\n",
    "sns.move_legend(age_title_boxplot, \"upper left\", bbox_to_anchor=(.65, .9))\n",
    "plt.title('Passenger\\'s Age vs. Title (Grouped)')\n",
    "plt.show()"
   ]
  },
  {
   "cell_type": "markdown",
   "metadata": {},
   "source": [
    "### Family Size"
   ]
  },
  {
   "cell_type": "markdown",
   "metadata": {},
   "source": [
    "We will create a new feature which is relatively easy to build. Family size of a passenger is equal to the number of siblings/spouses plus number of parents/children plus one that is the passenger.\n",
    "\n",
    "From the distribution of passenger's family size below, we can see that the median family size for those who survived is 2 which will be used in the next part of our feature engineering."
   ]
  },
  {
   "cell_type": "code",
   "execution_count": null,
   "metadata": {
    "execution": {
     "iopub.execute_input": "2024-03-24T17:43:34.421466Z",
     "iopub.status.busy": "2024-03-24T17:43:34.420311Z",
     "iopub.status.idle": "2024-03-24T17:43:34.428336Z",
     "shell.execute_reply": "2024-03-24T17:43:34.427482Z",
     "shell.execute_reply.started": "2024-03-24T17:43:34.421416Z"
    }
   },
   "outputs": [],
   "source": [
    "# Create family size variable\n",
    "df_concat['FamSize'] = df_concat['SibSp'] + df_concat['Parch'] + 1"
   ]
  },
  {
   "cell_type": "code",
   "execution_count": null,
   "metadata": {
    "execution": {
     "iopub.execute_input": "2024-03-24T17:43:34.653709Z",
     "iopub.status.busy": "2024-03-24T17:43:34.652998Z",
     "iopub.status.idle": "2024-03-24T17:43:34.679750Z",
     "shell.execute_reply": "2024-03-24T17:43:34.678137Z",
     "shell.execute_reply.started": "2024-03-24T17:43:34.653671Z"
    }
   },
   "outputs": [],
   "source": [
    "df_concat"
   ]
  },
  {
   "cell_type": "code",
   "execution_count": null,
   "metadata": {
    "execution": {
     "iopub.execute_input": "2024-03-24T17:43:34.883348Z",
     "iopub.status.busy": "2024-03-24T17:43:34.882123Z",
     "iopub.status.idle": "2024-03-24T17:43:35.471699Z",
     "shell.execute_reply": "2024-03-24T17:43:35.470563Z",
     "shell.execute_reply.started": "2024-03-24T17:43:34.883299Z"
    }
   },
   "outputs": [],
   "source": [
    "sns.displot(data=df_concat[['FamSize', 'Survived']], x='FamSize', hue='Survived', multiple='stack', height=5, aspect=2)\n",
    "plt.xlabel(\"Passenger's family size\")\n",
    "plt.title(\"Distribution of Passenger's Family Size\")\n",
    "plt.show()"
   ]
  },
  {
   "cell_type": "code",
   "execution_count": null,
   "metadata": {
    "execution": {
     "iopub.execute_input": "2024-03-24T17:43:35.474385Z",
     "iopub.status.busy": "2024-03-24T17:43:35.473770Z",
     "iopub.status.idle": "2024-03-24T17:43:35.687611Z",
     "shell.execute_reply": "2024-03-24T17:43:35.686262Z",
     "shell.execute_reply.started": "2024-03-24T17:43:35.474339Z"
    }
   },
   "outputs": [],
   "source": [
    "sns.boxplot(data=df_concat, x='Survived', y='FamSize', hue='Survived')\n",
    "plt.title('Boxplot of Survival vs. Family Size')\n",
    "plt.show()"
   ]
  },
  {
   "cell_type": "markdown",
   "metadata": {},
   "source": [
    "### Group Ticket"
   ]
  },
  {
   "cell_type": "markdown",
   "metadata": {},
   "source": [
    "It is interesting that in \"Ticket\" variable, the total number of passengers is 1309, however there are only 929 unique tickets.\n",
    "it indicates that there are a lot of people who shared the same ticket. We will call it Group Ticket, and in this part, we will create a new feature named \"Group\" to represent these shared tickets.\n",
    "\n",
    "in the previous feature engineering part, we have already mentioned that the median family size for the survived is 2. In this new variable, we will calculate the number of passengers with each ticket, and if the number is greater than 2, we will assign \"Group\" variable a value 1, and 0 vice versa."
   ]
  },
  {
   "cell_type": "code",
   "execution_count": null,
   "metadata": {
    "execution": {
     "iopub.execute_input": "2024-03-24T17:43:36.097478Z",
     "iopub.status.busy": "2024-03-24T17:43:36.097037Z",
     "iopub.status.idle": "2024-03-24T17:43:36.106131Z",
     "shell.execute_reply": "2024-03-24T17:43:36.104995Z",
     "shell.execute_reply.started": "2024-03-24T17:43:36.097444Z"
    }
   },
   "outputs": [],
   "source": [
    "ticket_group = df_concat.groupby(['Ticket'])['Ticket'].count()"
   ]
  },
  {
   "cell_type": "code",
   "execution_count": null,
   "metadata": {
    "execution": {
     "iopub.execute_input": "2024-03-24T17:43:36.568155Z",
     "iopub.status.busy": "2024-03-24T17:43:36.567726Z",
     "iopub.status.idle": "2024-03-24T17:43:36.573936Z",
     "shell.execute_reply": "2024-03-24T17:43:36.572861Z",
     "shell.execute_reply.started": "2024-03-24T17:43:36.568123Z"
    }
   },
   "outputs": [],
   "source": [
    "df_concat['Group'] = 0"
   ]
  },
  {
   "cell_type": "code",
   "execution_count": null,
   "metadata": {
    "execution": {
     "iopub.execute_input": "2024-03-24T17:43:37.189466Z",
     "iopub.status.busy": "2024-03-24T17:43:37.188556Z",
     "iopub.status.idle": "2024-03-24T17:43:37.217770Z",
     "shell.execute_reply": "2024-03-24T17:43:37.216501Z",
     "shell.execute_reply.started": "2024-03-24T17:43:37.189421Z"
    }
   },
   "outputs": [],
   "source": [
    "df_concat"
   ]
  },
  {
   "cell_type": "code",
   "execution_count": null,
   "metadata": {
    "execution": {
     "iopub.execute_input": "2024-03-24T17:43:37.479812Z",
     "iopub.status.busy": "2024-03-24T17:43:37.479292Z",
     "iopub.status.idle": "2024-03-24T17:43:37.698832Z",
     "shell.execute_reply": "2024-03-24T17:43:37.697322Z",
     "shell.execute_reply.started": "2024-03-24T17:43:37.479775Z"
    }
   },
   "outputs": [],
   "source": [
    "for t in ticket_group.index:\n",
    "    if ticket_group[t] > 2:\n",
    "        for i in df_concat[df_concat['Ticket']==t]['Group'].index:\n",
    "            df_concat['Group'][i] = 1"
   ]
  },
  {
   "cell_type": "markdown",
   "metadata": {},
   "source": [
    "It turns out about one quarter of the passengers match my \"Group\" criteria."
   ]
  },
  {
   "cell_type": "code",
   "execution_count": null,
   "metadata": {
    "execution": {
     "iopub.execute_input": "2024-03-24T17:43:37.971853Z",
     "iopub.status.busy": "2024-03-24T17:43:37.971335Z",
     "iopub.status.idle": "2024-03-24T17:43:37.988660Z",
     "shell.execute_reply": "2024-03-24T17:43:37.987416Z",
     "shell.execute_reply.started": "2024-03-24T17:43:37.971807Z"
    }
   },
   "outputs": [],
   "source": [
    "group_count = df_concat.groupby(['Group'])['Group'].count().values.reshape(1, 2)\n",
    "group_count = np.append(group_count, np.round(group_count / (group_count[0][0] + group_count[0][1]) * 100, decimals=2), axis=0)\n",
    "table = pd.DataFrame(data=group_count, columns=['Yes', 'No'])\n",
    "table.rename(index={0:'No. of Passengers', 1:'% of Passengers'}, inplace=True)\n",
    "display(table)"
   ]
  },
  {
   "cell_type": "markdown",
   "metadata": {},
   "source": [
    "### Women and Children"
   ]
  },
  {
   "cell_type": "markdown",
   "metadata": {},
   "source": [
    "As we have already known that women and children first rule was carried out in the incident, so in this part we will create a feature named WomChd directly related to women and children. If a passenger is either female or less than 18 years old, we will assign WomChd a value 1, and 0 vice versa."
   ]
  },
  {
   "cell_type": "code",
   "execution_count": null,
   "metadata": {
    "execution": {
     "iopub.execute_input": "2024-03-24T17:43:39.174721Z",
     "iopub.status.busy": "2024-03-24T17:43:39.173622Z",
     "iopub.status.idle": "2024-03-24T17:43:39.180487Z",
     "shell.execute_reply": "2024-03-24T17:43:39.179343Z",
     "shell.execute_reply.started": "2024-03-24T17:43:39.174674Z"
    }
   },
   "outputs": [],
   "source": [
    "df_concat['WomChd'] = 0"
   ]
  },
  {
   "cell_type": "code",
   "execution_count": null,
   "metadata": {
    "execution": {
     "iopub.execute_input": "2024-03-24T17:43:39.503646Z",
     "iopub.status.busy": "2024-03-24T17:43:39.503224Z",
     "iopub.status.idle": "2024-03-24T17:43:39.743556Z",
     "shell.execute_reply": "2024-03-24T17:43:39.742472Z",
     "shell.execute_reply.started": "2024-03-24T17:43:39.503614Z"
    }
   },
   "outputs": [],
   "source": [
    "for i in df_concat[(df_concat['Age']<18) | (df_concat['Sex']=='female')].index:\n",
    "    df_concat['WomChd'][i] = 1"
   ]
  },
  {
   "cell_type": "markdown",
   "metadata": {},
   "source": [
    "There are nearly 40% passengers are either women or children. But we know the total survival rate is only roughly 30%. We will see how well this feature can help us predict the fate of passengers in the modeling part."
   ]
  },
  {
   "cell_type": "code",
   "execution_count": null,
   "metadata": {
    "execution": {
     "iopub.execute_input": "2024-03-24T17:43:41.410394Z",
     "iopub.status.busy": "2024-03-24T17:43:41.409950Z",
     "iopub.status.idle": "2024-03-24T17:43:41.425535Z",
     "shell.execute_reply": "2024-03-24T17:43:41.424380Z",
     "shell.execute_reply.started": "2024-03-24T17:43:41.410347Z"
    }
   },
   "outputs": [],
   "source": [
    "womchd = df_concat.groupby('WomChd')['WomChd'].count().values.reshape(1, 2)\n",
    "womchd = np.append(womchd, np.round(womchd / (womchd[0][0] + womchd[0][1]) * 100, 2), axis=0)\n",
    "table = pd.DataFrame(data=womchd, columns=['Yes', 'No'])\n",
    "table.rename(index={0:'No. of Passengers', 1:'% of Passengers'}, inplace=True)\n",
    "display(table)"
   ]
  },
  {
   "cell_type": "markdown",
   "metadata": {},
   "source": [
    "Let's have a look at the relationship of passengers'fate and the two new variables we've just created"
   ]
  },
  {
   "cell_type": "code",
   "execution_count": null,
   "metadata": {
    "execution": {
     "iopub.execute_input": "2024-03-24T17:43:42.408199Z",
     "iopub.status.busy": "2024-03-24T17:43:42.407407Z",
     "iopub.status.idle": "2024-03-24T17:43:42.859864Z",
     "shell.execute_reply": "2024-03-24T17:43:42.858731Z",
     "shell.execute_reply.started": "2024-03-24T17:43:42.408161Z"
    }
   },
   "outputs": [],
   "source": [
    "sns.displot(data=df_concat, x='Group', hue='Survived', multiple='stack')\n",
    "plt.xlabel('Group Ticket')\n",
    "plt.title(\"Group Ticket by Passenger's fate\")\n",
    "plt.show()"
   ]
  },
  {
   "cell_type": "code",
   "execution_count": null,
   "metadata": {
    "execution": {
     "iopub.execute_input": "2024-03-24T17:43:42.862591Z",
     "iopub.status.busy": "2024-03-24T17:43:42.861685Z",
     "iopub.status.idle": "2024-03-24T17:43:43.297402Z",
     "shell.execute_reply": "2024-03-24T17:43:43.296209Z",
     "shell.execute_reply.started": "2024-03-24T17:43:42.862557Z"
    }
   },
   "outputs": [],
   "source": [
    "sns.displot(data=df_concat, x='WomChd', hue='Survived', multiple='stack')\n",
    "plt.xlabel('Women and Children')\n",
    "plt.title(\"Women and Children by Passenger's fate\")\n",
    "plt.show()"
   ]
  },
  {
   "cell_type": "markdown",
   "metadata": {},
   "source": [
    "It is clear that passengers taking a group ticket, or being women or children have a higher chance to survive"
   ]
  },
  {
   "cell_type": "markdown",
   "metadata": {},
   "source": [
    "### Encoding Categorical Features"
   ]
  },
  {
   "cell_type": "code",
   "execution_count": null,
   "metadata": {
    "execution": {
     "iopub.execute_input": "2024-03-24T17:44:22.267506Z",
     "iopub.status.busy": "2024-03-24T17:44:22.266686Z",
     "iopub.status.idle": "2024-03-24T17:44:22.294879Z",
     "shell.execute_reply": "2024-03-24T17:44:22.293465Z",
     "shell.execute_reply.started": "2024-03-24T17:44:22.267467Z"
    }
   },
   "outputs": [],
   "source": [
    "# Remove Name and Ticket variables\n",
    "df_concat.drop(['Name', 'Ticket'], axis=1, inplace=True)\n",
    "df_concat"
   ]
  },
  {
   "cell_type": "code",
   "execution_count": null,
   "metadata": {
    "execution": {
     "iopub.execute_input": "2024-03-24T17:43:43.641518Z",
     "iopub.status.busy": "2024-03-24T17:43:43.640316Z",
     "iopub.status.idle": "2024-03-24T17:43:43.649099Z",
     "shell.execute_reply": "2024-03-24T17:43:43.647927Z",
     "shell.execute_reply.started": "2024-03-24T17:43:43.641464Z"
    }
   },
   "outputs": [],
   "source": [
    "# Encoding Embarked variable base on the proportion of survived at the embarkation ports\n",
    "# C port had the highest proportion of survival,so we will replace it by value 3\n",
    "# Q port had the second highest proportion of survival,so we will replace it by value 2\n",
    "# S port had the lowest proportion of survival,so we will replace it by value 1\n",
    "df_concat['Embarked'] = df_concat['Embarked'].map({\"S\": 1, \"Q\": 2, \"C\": 3})"
   ]
  },
  {
   "cell_type": "code",
   "execution_count": null,
   "metadata": {
    "execution": {
     "iopub.execute_input": "2024-03-24T17:43:43.864807Z",
     "iopub.status.busy": "2024-03-24T17:43:43.863655Z",
     "iopub.status.idle": "2024-03-24T17:43:43.872129Z",
     "shell.execute_reply": "2024-03-24T17:43:43.870861Z",
     "shell.execute_reply.started": "2024-03-24T17:43:43.864754Z"
    }
   },
   "outputs": [],
   "source": [
    "# Encoding Sex variable\n",
    "# female had the higher proportion of survival,so we will replace it by value 2\n",
    "# male had the lower proportion of survival,so we will replace it by value 1\n",
    "df_concat['Sex'] = df_concat['Sex'].map({\"male\": 1, \"female\": 2})"
   ]
  },
  {
   "cell_type": "code",
   "execution_count": null,
   "metadata": {
    "execution": {
     "iopub.execute_input": "2024-03-24T17:43:44.077302Z",
     "iopub.status.busy": "2024-03-24T17:43:44.076155Z",
     "iopub.status.idle": "2024-03-24T17:43:44.084743Z",
     "shell.execute_reply": "2024-03-24T17:43:44.083592Z",
     "shell.execute_reply.started": "2024-03-24T17:43:44.077246Z"
    }
   },
   "outputs": [],
   "source": [
    "# The proportion of survival of the title \"Mr.\" is 0.15%, so we will replace it by value 1\n",
    "# The proportion of survival of the title \"Rare.\" is 0.42%, so we will replace it by value 2\n",
    "# The proportion of survival of the title \"Master.\" is 0.57%, so we will replace it by value 3\n",
    "# The proportion of survival of the title \"Miss.\" is 0.70%, so we will replace it by value 4\n",
    "# The proportion of survival of the title \"Mrs.\" is 0.79%, so we will replace it by value 5\n",
    "df_concat['Title'] = df_concat['Title'].map({\"Mr.\": 1, \"Rare.\": 2, \"Master.\": 3, \"Miss.\": 4, \"Mrs.\": 5})"
   ]
  },
  {
   "cell_type": "code",
   "execution_count": null,
   "metadata": {
    "execution": {
     "iopub.execute_input": "2024-03-24T17:43:44.323234Z",
     "iopub.status.busy": "2024-03-24T17:43:44.322390Z",
     "iopub.status.idle": "2024-03-24T17:43:44.349497Z",
     "shell.execute_reply": "2024-03-24T17:43:44.348086Z",
     "shell.execute_reply.started": "2024-03-24T17:43:44.323194Z"
    }
   },
   "outputs": [],
   "source": [
    "df_concat"
   ]
  },
  {
   "cell_type": "markdown",
   "metadata": {},
   "source": [
    "## Modeling"
   ]
  },
  {
   "cell_type": "markdown",
   "metadata": {},
   "source": [
    "After analyzing and exploring the patterns and creating new features, now we will train models to predict the fate of the passengers.\n",
    "\n",
    "There are 3 machine learning models which are used in this project:\n",
    "- Logistic Regression\n",
    "- Support Vector Machine\n",
    "- Random Forest\n",
    "Before diving into the modeling process, we will split the dataset into 2 parts: training and testing"
   ]
  },
  {
   "cell_type": "code",
   "execution_count": null,
   "metadata": {
    "execution": {
     "iopub.execute_input": "2024-03-24T17:44:35.148990Z",
     "iopub.status.busy": "2024-03-24T17:44:35.148515Z",
     "iopub.status.idle": "2024-03-24T17:44:35.157622Z",
     "shell.execute_reply": "2024-03-24T17:44:35.156344Z",
     "shell.execute_reply.started": "2024-03-24T17:44:35.148958Z"
    }
   },
   "outputs": [],
   "source": [
    "X = df_concat.drop(['Survived'], axis=1).values\n",
    "y = df_concat['Survived'].values"
   ]
  },
  {
   "cell_type": "code",
   "execution_count": null,
   "metadata": {
    "execution": {
     "iopub.execute_input": "2024-03-24T17:44:35.902101Z",
     "iopub.status.busy": "2024-03-24T17:44:35.899415Z",
     "iopub.status.idle": "2024-03-24T17:44:35.908486Z",
     "shell.execute_reply": "2024-03-24T17:44:35.907611Z",
     "shell.execute_reply.started": "2024-03-24T17:44:35.902047Z"
    }
   },
   "outputs": [],
   "source": [
    "X.shape"
   ]
  },
  {
   "cell_type": "code",
   "execution_count": null,
   "metadata": {
    "execution": {
     "iopub.execute_input": "2024-03-24T17:44:36.164602Z",
     "iopub.status.busy": "2024-03-24T17:44:36.163465Z",
     "iopub.status.idle": "2024-03-24T17:44:36.170811Z",
     "shell.execute_reply": "2024-03-24T17:44:36.169669Z",
     "shell.execute_reply.started": "2024-03-24T17:44:36.164559Z"
    }
   },
   "outputs": [],
   "source": [
    "y.shape"
   ]
  },
  {
   "cell_type": "code",
   "execution_count": null,
   "metadata": {
    "execution": {
     "iopub.execute_input": "2024-03-24T17:44:36.431656Z",
     "iopub.status.busy": "2024-03-24T17:44:36.431197Z",
     "iopub.status.idle": "2024-03-24T17:44:36.437941Z",
     "shell.execute_reply": "2024-03-24T17:44:36.436407Z",
     "shell.execute_reply.started": "2024-03-24T17:44:36.431618Z"
    }
   },
   "outputs": [],
   "source": [
    "# training set\n",
    "X_train = X[:len(df_train)]\n",
    "y_train = y[:len(df_train)]"
   ]
  },
  {
   "cell_type": "code",
   "execution_count": null,
   "metadata": {
    "execution": {
     "iopub.execute_input": "2024-03-24T17:44:36.803243Z",
     "iopub.status.busy": "2024-03-24T17:44:36.802814Z",
     "iopub.status.idle": "2024-03-24T17:44:36.809705Z",
     "shell.execute_reply": "2024-03-24T17:44:36.808447Z",
     "shell.execute_reply.started": "2024-03-24T17:44:36.803210Z"
    }
   },
   "outputs": [],
   "source": [
    "# testing set\n",
    "X_test = X[len(df_train):]\n",
    "y_test = y[len(df_train):]"
   ]
  },
  {
   "cell_type": "markdown",
   "metadata": {},
   "source": [
    "with each method, the model is trained on the training dataset, and then be used to predict the fate of the passengers in the testing dataset."
   ]
  },
  {
   "cell_type": "markdown",
   "metadata": {},
   "source": [
    "## Feature Scaling"
   ]
  },
  {
   "cell_type": "markdown",
   "metadata": {},
   "source": [
    "Feature scaling: it can make algorithms perform better when numerical input variables are scaled to a standard range."
   ]
  },
  {
   "cell_type": "code",
   "execution_count": null,
   "metadata": {
    "execution": {
     "iopub.execute_input": "2024-03-24T17:44:38.956310Z",
     "iopub.status.busy": "2024-03-24T17:44:38.955864Z",
     "iopub.status.idle": "2024-03-24T17:44:38.961662Z",
     "shell.execute_reply": "2024-03-24T17:44:38.960502Z",
     "shell.execute_reply.started": "2024-03-24T17:44:38.956266Z"
    }
   },
   "outputs": [],
   "source": [
    "from sklearn.preprocessing import MinMaxScaler"
   ]
  },
  {
   "cell_type": "code",
   "execution_count": null,
   "metadata": {
    "execution": {
     "iopub.execute_input": "2024-03-24T17:44:39.483009Z",
     "iopub.status.busy": "2024-03-24T17:44:39.482512Z",
     "iopub.status.idle": "2024-03-24T17:44:39.492682Z",
     "shell.execute_reply": "2024-03-24T17:44:39.491471Z",
     "shell.execute_reply.started": "2024-03-24T17:44:39.482973Z"
    }
   },
   "outputs": [],
   "source": [
    "scaler = MinMaxScaler()\n",
    "scaler.fit(X_train)"
   ]
  },
  {
   "cell_type": "code",
   "execution_count": null,
   "metadata": {
    "execution": {
     "iopub.execute_input": "2024-03-24T17:44:39.818331Z",
     "iopub.status.busy": "2024-03-24T17:44:39.817680Z",
     "iopub.status.idle": "2024-03-24T17:44:39.823437Z",
     "shell.execute_reply": "2024-03-24T17:44:39.822500Z",
     "shell.execute_reply.started": "2024-03-24T17:44:39.818298Z"
    }
   },
   "outputs": [],
   "source": [
    "X_train = scaler.transform(X_train)\n",
    "X_test = scaler.transform(X_test)"
   ]
  },
  {
   "cell_type": "markdown",
   "metadata": {},
   "source": [
    "### Logistic Regression With Cross-Validation"
   ]
  },
  {
   "cell_type": "code",
   "execution_count": null,
   "metadata": {
    "execution": {
     "iopub.execute_input": "2024-03-24T17:44:40.974318Z",
     "iopub.status.busy": "2024-03-24T17:44:40.972963Z",
     "iopub.status.idle": "2024-03-24T17:44:40.980831Z",
     "shell.execute_reply": "2024-03-24T17:44:40.979464Z",
     "shell.execute_reply.started": "2024-03-24T17:44:40.974254Z"
    }
   },
   "outputs": [],
   "source": [
    "from sklearn.model_selection import GridSearchCV\n",
    "from sklearn.linear_model import LogisticRegression\n",
    "from sklearn.metrics import (\n",
    "    confusion_matrix,\n",
    "    accuracy_score,\n",
    "    precision_score,\n",
    "    recall_score,\n",
    "    f1_score,\n",
    "    ConfusionMatrixDisplay\n",
    ")"
   ]
  },
  {
   "cell_type": "code",
   "execution_count": null,
   "metadata": {
    "execution": {
     "iopub.execute_input": "2024-03-24T17:44:41.840750Z",
     "iopub.status.busy": "2024-03-24T17:44:41.840236Z",
     "iopub.status.idle": "2024-03-24T17:44:41.845948Z",
     "shell.execute_reply": "2024-03-24T17:44:41.844595Z",
     "shell.execute_reply.started": "2024-03-24T17:44:41.840695Z"
    }
   },
   "outputs": [],
   "source": [
    "logistic_regression = LogisticRegression()"
   ]
  },
  {
   "cell_type": "code",
   "execution_count": null,
   "metadata": {
    "execution": {
     "iopub.execute_input": "2024-03-24T17:44:42.303954Z",
     "iopub.status.busy": "2024-03-24T17:44:42.302807Z",
     "iopub.status.idle": "2024-03-24T17:44:42.308668Z",
     "shell.execute_reply": "2024-03-24T17:44:42.307817Z",
     "shell.execute_reply.started": "2024-03-24T17:44:42.303911Z"
    }
   },
   "outputs": [],
   "source": [
    "param_grid = {\n",
    "    'penalty': [\"l2\"],\n",
    "    'solver': [\"lbfgs\", \"liblinear\", \"newton-cg\", \"newton-cholesky\", \"sag\", \"saga\"]\n",
    "}"
   ]
  },
  {
   "cell_type": "code",
   "execution_count": null,
   "metadata": {
    "execution": {
     "iopub.execute_input": "2024-03-24T17:44:43.172089Z",
     "iopub.status.busy": "2024-03-24T17:44:43.171324Z",
     "iopub.status.idle": "2024-03-24T17:44:43.329737Z",
     "shell.execute_reply": "2024-03-24T17:44:43.328383Z",
     "shell.execute_reply.started": "2024-03-24T17:44:43.172050Z"
    }
   },
   "outputs": [],
   "source": [
    "grid_logistic_regression = GridSearchCV(estimator=logistic_regression, param_grid=param_grid, cv=5, return_train_score=True, scoring='accuracy', n_jobs=-1)\n",
    "grid_logistic_regression.fit(X_train, y_train)"
   ]
  },
  {
   "cell_type": "code",
   "execution_count": null,
   "metadata": {
    "execution": {
     "iopub.execute_input": "2024-03-24T17:44:44.179187Z",
     "iopub.status.busy": "2024-03-24T17:44:44.176146Z",
     "iopub.status.idle": "2024-03-24T17:44:44.209341Z",
     "shell.execute_reply": "2024-03-24T17:44:44.208137Z",
     "shell.execute_reply.started": "2024-03-24T17:44:44.179136Z"
    }
   },
   "outputs": [],
   "source": [
    "cv_results = pd.DataFrame(grid_logistic_regression.cv_results_)\n",
    "cv_results"
   ]
  },
  {
   "cell_type": "code",
   "execution_count": 547,
   "metadata": {
    "execution": {
     "iopub.execute_input": "2024-03-24T17:44:45.069488Z",
     "iopub.status.busy": "2024-03-24T17:44:45.069033Z",
     "iopub.status.idle": "2024-03-24T17:44:45.321457Z",
     "shell.execute_reply": "2024-03-24T17:44:45.320170Z",
     "shell.execute_reply.started": "2024-03-24T17:44:45.069455Z"
    }
   },
   "outputs": [
    {
     "data": {
      "image/png": "[encoded data removed]",
      "text/plain": [
       "<Figure size 640x480 with 1 Axes>"
      ]
     },
     "metadata": {},
     "output_type": "display_data"
    }
   ],
   "source": [
    "plt.plot(cv_results['param_solver'], cv_results['mean_train_score'])\n",
    "plt.plot(cv_results['param_solver'], cv_results['mean_test_score'])\n",
    "plt.xlabel('Solver')\n",
    "plt.ylabel('Mean Accuracy')\n",
    "plt.legend(['Train', 'Test'])\n",
    "plt.grid(True)"
   ]
  },
  {
   "cell_type": "code",
   "execution_count": 548,
   "metadata": {
    "execution": {
     "iopub.execute_input": "2024-03-24T17:44:45.749725Z",
     "iopub.status.busy": "2024-03-24T17:44:45.747530Z",
     "iopub.status.idle": "2024-03-24T17:44:45.758661Z",
     "shell.execute_reply": "2024-03-24T17:44:45.757628Z",
     "shell.execute_reply.started": "2024-03-24T17:44:45.749669Z"
    }
   },
   "outputs": [
    {
     "data": {
      "text/plain": [
       "{'penalty': 'l2', 'solver': 'lbfgs'}"
      ]
     },
     "execution_count": 548,
     "metadata": {},
     "output_type": "execute_result"
    }
   ],
   "source": [
    "grid_logistic_regression.best_params_"
   ]
  },
  {
   "cell_type": "code",
   "execution_count": 549,
   "metadata": {
    "execution": {
     "iopub.execute_input": "2024-03-24T17:44:46.423682Z",
     "iopub.status.busy": "2024-03-24T17:44:46.423211Z",
     "iopub.status.idle": "2024-03-24T17:44:46.429025Z",
     "shell.execute_reply": "2024-03-24T17:44:46.427847Z",
     "shell.execute_reply.started": "2024-03-24T17:44:46.423646Z"
    }
   },
   "outputs": [],
   "source": [
    "logistic_regression = grid_logistic_regression.best_estimator_"
   ]
  },
  {
   "cell_type": "code",
   "execution_count": 550,
   "metadata": {
    "execution": {
     "iopub.execute_input": "2024-03-24T17:44:47.256690Z",
     "iopub.status.busy": "2024-03-24T17:44:47.255544Z",
     "iopub.status.idle": "2024-03-24T17:44:47.262651Z",
     "shell.execute_reply": "2024-03-24T17:44:47.261376Z",
     "shell.execute_reply.started": "2024-03-24T17:44:47.256641Z"
    }
   },
   "outputs": [],
   "source": [
    "y_pred = logistic_regression.predict(X_train)"
   ]
  },
  {
   "cell_type": "code",
   "execution_count": 551,
   "metadata": {
    "execution": {
     "iopub.execute_input": "2024-03-24T17:44:47.810842Z",
     "iopub.status.busy": "2024-03-24T17:44:47.809899Z",
     "iopub.status.idle": "2024-03-24T17:44:48.030165Z",
     "shell.execute_reply": "2024-03-24T17:44:48.029007Z",
     "shell.execute_reply.started": "2024-03-24T17:44:47.810801Z"
    }
   },
   "outputs": [
    {
     "data": {
      "image/png": "[encoded data removed]",
      "text/plain": [
       "<Figure size 640x480 with 2 Axes>"
      ]
     },
     "metadata": {},
     "output_type": "display_data"
    }
   ],
   "source": [
    "cm = ConfusionMatrixDisplay(confusion_matrix = confusion_matrix(y_train, y_pred))\n",
    "cm.plot()\n",
    "plt.show()"
   ]
  },
  {
   "cell_type": "code",
   "execution_count": 552,
   "metadata": {
    "execution": {
     "iopub.execute_input": "2024-03-24T17:44:48.793388Z",
     "iopub.status.busy": "2024-03-24T17:44:48.792848Z",
     "iopub.status.idle": "2024-03-24T17:44:48.809885Z",
     "shell.execute_reply": "2024-03-24T17:44:48.809039Z",
     "shell.execute_reply.started": "2024-03-24T17:44:48.793326Z"
    }
   },
   "outputs": [
    {
     "name": "stdout",
     "output_type": "stream",
     "text": [
      "Precision for training: 0.79%\n",
      "Recall for training: 0.73%\n",
      "F1 for training: 0.76%\n"
     ]
    }
   ],
   "source": [
    "print('Precision for training: {:.2f}%'.format(precision_score(y_train, y_pred)))\n",
    "print('Recall for training: {:.2f}%'.format(recall_score(y_train, y_pred)))\n",
    "print('F1 for training: {:.2f}%'.format(f1_score(y_train, y_pred)))"
   ]
  },
  {
   "cell_type": "markdown",
   "metadata": {},
   "source": [
    "### Support Vector Machine"
   ]
  },
  {
   "cell_type": "code",
   "execution_count": 287,
   "metadata": {
    "execution": {
     "iopub.execute_input": "2024-03-24T16:54:56.464621Z",
     "iopub.status.busy": "2024-03-24T16:54:56.464180Z",
     "iopub.status.idle": "2024-03-24T16:54:56.470274Z",
     "shell.execute_reply": "2024-03-24T16:54:56.468978Z",
     "shell.execute_reply.started": "2024-03-24T16:54:56.464589Z"
    }
   },
   "outputs": [],
   "source": [
    "from sklearn.svm import SVC"
   ]
  },
  {
   "cell_type": "code",
   "execution_count": 288,
   "metadata": {
    "execution": {
     "iopub.execute_input": "2024-03-24T16:54:56.951304Z",
     "iopub.status.busy": "2024-03-24T16:54:56.950867Z",
     "iopub.status.idle": "2024-03-24T16:54:56.957285Z",
     "shell.execute_reply": "2024-03-24T16:54:56.956111Z",
     "shell.execute_reply.started": "2024-03-24T16:54:56.951273Z"
    }
   },
   "outputs": [],
   "source": [
    "svm_model = SVC()"
   ]
  },
  {
   "cell_type": "code",
   "execution_count": 289,
   "metadata": {
    "execution": {
     "iopub.execute_input": "2024-03-24T16:54:57.202838Z",
     "iopub.status.busy": "2024-03-24T16:54:57.202402Z",
     "iopub.status.idle": "2024-03-24T16:54:57.207442Z",
     "shell.execute_reply": "2024-03-24T16:54:57.206566Z",
     "shell.execute_reply.started": "2024-03-24T16:54:57.202807Z"
    }
   },
   "outputs": [],
   "source": [
    "param_grid = {\n",
    "    'kernel': ['linear', 'rbf', 'sigmoid', 'polynomial']\n",
    "}"
   ]
  },
  {
   "cell_type": "code",
   "execution_count": 290,
   "metadata": {
    "execution": {
     "iopub.execute_input": "2024-03-24T16:54:57.433477Z",
     "iopub.status.busy": "2024-03-24T16:54:57.432482Z",
     "iopub.status.idle": "2024-03-24T16:54:57.711188Z",
     "shell.execute_reply": "2024-03-24T16:54:57.710389Z",
     "shell.execute_reply.started": "2024-03-24T16:54:57.433433Z"
    }
   },
   "outputs": [
    {
     "name": "stderr",
     "output_type": "stream",
     "text": [
      "/opt/conda/lib/python3.10/site-packages/sklearn/model_selection/_validation.py:378: FitFailedWarning: \n",
      "5 fits failed out of a total of 20.\n",
      "The score on these train-test partitions for these parameters will be set to nan.\n",
      "If these failures are not expected, you can try to debug them by setting error_score='raise'.\n",
      "\n",
      "Below are more details about the failures:\n",
      "--------------------------------------------------------------------------------\n",
      "5 fits failed with the following error:\n",
      "Traceback (most recent call last):\n",
      "  File \"/opt/conda/lib/python3.10/site-packages/sklearn/model_selection/_validation.py\", line 686, in _fit_and_score\n",
      "    estimator.fit(X_train, y_train, **fit_params)\n",
      "  File \"/opt/conda/lib/python3.10/site-packages/sklearn/svm/_base.py\", line 180, in fit\n",
      "    self._validate_params()\n",
      "  File \"/opt/conda/lib/python3.10/site-packages/sklearn/base.py\", line 600, in _validate_params\n",
      "    validate_parameter_constraints(\n",
      "  File \"/opt/conda/lib/python3.10/site-packages/sklearn/utils/_param_validation.py\", line 97, in validate_parameter_constraints\n",
      "    raise InvalidParameterError(\n",
      "sklearn.utils._param_validation.InvalidParameterError: The 'kernel' parameter of SVC must be a str among {'sigmoid', 'linear', 'poly', 'precomputed', 'rbf'} or a callable. Got 'polynomial' instead.\n",
      "\n",
      "  warnings.warn(some_fits_failed_message, FitFailedWarning)\n",
      "/opt/conda/lib/python3.10/site-packages/sklearn/model_selection/_search.py:952: UserWarning: One or more of the test scores are non-finite: [0.80580629 0.8282782  0.6632352         nan]\n",
      "  warnings.warn(\n",
      "/opt/conda/lib/python3.10/site-packages/sklearn/model_selection/_search.py:952: UserWarning: One or more of the train scores are non-finite: [0.81677987 0.83754038 0.66526349        nan]\n",
      "  warnings.warn(\n"
     ]
    },
    {
     "data": {
      "text/html": [
       "<style>#sk-container-id-7 {color: black;background-color: white;}#sk-container-id-7 pre{padding: 0;}#sk-container-id-7 div.sk-toggleable {background-color: white;}#sk-container-id-7 label.sk-toggleable__label {cursor: pointer;display: block;width: 100%;margin-bottom: 0;padding: 0.3em;box-sizing: border-box;text-align: center;}#sk-container-id-7 label.sk-toggleable__label-arrow:before {content: \"▸\";float: left;margin-right: 0.25em;color: #696969;}#sk-container-id-7 label.sk-toggleable__label-arrow:hover:before {color: black;}#sk-container-id-7 div.sk-estimator:hover label.sk-toggleable__label-arrow:before {color: black;}#sk-container-id-7 div.sk-toggleable__content {max-height: 0;max-width: 0;overflow: hidden;text-align: left;background-color: #f0f8ff;}#sk-container-id-7 div.sk-toggleable__content pre {margin: 0.2em;color: black;border-radius: 0.25em;background-color: #f0f8ff;}#sk-container-id-7 input.sk-toggleable__control:checked~div.sk-toggleable__content {max-height: 200px;max-width: 100%;overflow: auto;}#sk-container-id-7 input.sk-toggleable__control:checked~label.sk-toggleable__label-arrow:before {content: \"▾\";}#sk-container-id-7 div.sk-estimator input.sk-toggleable__control:checked~label.sk-toggleable__label {background-color: #d4ebff;}#sk-container-id-7 div.sk-label input.sk-toggleable__control:checked~label.sk-toggleable__label {background-color: #d4ebff;}#sk-container-id-7 input.sk-hidden--visually {border: 0;clip: rect(1px 1px 1px 1px);clip: rect(1px, 1px, 1px, 1px);height: 1px;margin: -1px;overflow: hidden;padding: 0;position: absolute;width: 1px;}#sk-container-id-7 div.sk-estimator {font-family: monospace;background-color: #f0f8ff;border: 1px dotted black;border-radius: 0.25em;box-sizing: border-box;margin-bottom: 0.5em;}#sk-container-id-7 div.sk-estimator:hover {background-color: #d4ebff;}#sk-container-id-7 div.sk-parallel-item::after {content: \"\";width: 100%;border-bottom: 1px solid gray;flex-grow: 1;}#sk-container-id-7 div.sk-label:hover label.sk-toggleable__label {background-color: #d4ebff;}#sk-container-id-7 div.sk-serial::before {content: \"\";position: absolute;border-left: 1px solid gray;box-sizing: border-box;top: 0;bottom: 0;left: 50%;z-index: 0;}#sk-container-id-7 div.sk-serial {display: flex;flex-direction: column;align-items: center;background-color: white;padding-right: 0.2em;padding-left: 0.2em;position: relative;}#sk-container-id-7 div.sk-item {position: relative;z-index: 1;}#sk-container-id-7 div.sk-parallel {display: flex;align-items: stretch;justify-content: center;background-color: white;position: relative;}#sk-container-id-7 div.sk-item::before, #sk-container-id-7 div.sk-parallel-item::before {content: \"\";position: absolute;border-left: 1px solid gray;box-sizing: border-box;top: 0;bottom: 0;left: 50%;z-index: -1;}#sk-container-id-7 div.sk-parallel-item {display: flex;flex-direction: column;z-index: 1;position: relative;background-color: white;}#sk-container-id-7 div.sk-parallel-item:first-child::after {align-self: flex-end;width: 50%;}#sk-container-id-7 div.sk-parallel-item:last-child::after {align-self: flex-start;width: 50%;}#sk-container-id-7 div.sk-parallel-item:only-child::after {width: 0;}#sk-container-id-7 div.sk-dashed-wrapped {border: 1px dashed gray;margin: 0 0.4em 0.5em 0.4em;box-sizing: border-box;padding-bottom: 0.4em;background-color: white;}#sk-container-id-7 div.sk-label label {font-family: monospace;font-weight: bold;display: inline-block;line-height: 1.2em;}#sk-container-id-7 div.sk-label-container {text-align: center;}#sk-container-id-7 div.sk-container {/* jupyter's `normalize.less` sets `[hidden] { display: none; }` but bootstrap.min.css set `[hidden] { display: none !important; }` so we also need the `!important` here to be able to override the default hidden behavior on the sphinx rendered scikit-learn.org. See: https://github.com/scikit-learn/scikit-learn/issues/21755 */display: inline-block !important;position: relative;}#sk-container-id-7 div.sk-text-repr-fallback {display: none;}</style><div id=\"sk-container-id-7\" class=\"sk-top-container\"><div class=\"sk-text-repr-fallback\"><pre>GridSearchCV(cv=5, estimator=SVC(), n_jobs=-1,\n",
       "             param_grid={&#x27;kernel&#x27;: [&#x27;linear&#x27;, &#x27;rbf&#x27;, &#x27;sigmoid&#x27;, &#x27;polynomial&#x27;]},\n",
       "             return_train_score=True, scoring=&#x27;accuracy&#x27;)</pre><b>In a Jupyter environment, please rerun this cell to show the HTML representation or trust the notebook. <br />On GitHub, the HTML representation is unable to render, please try loading this page with nbviewer.org.</b></div><div class=\"sk-container\" hidden><div class=\"sk-item sk-dashed-wrapped\"><div class=\"sk-label-container\"><div class=\"sk-label sk-toggleable\"><input class=\"sk-toggleable__control sk-hidden--visually\" id=\"sk-estimator-id-13\" type=\"checkbox\" ><label for=\"sk-estimator-id-13\" class=\"sk-toggleable__label sk-toggleable__label-arrow\">GridSearchCV</label><div class=\"sk-toggleable__content\"><pre>GridSearchCV(cv=5, estimator=SVC(), n_jobs=-1,\n",
       "             param_grid={&#x27;kernel&#x27;: [&#x27;linear&#x27;, &#x27;rbf&#x27;, &#x27;sigmoid&#x27;, &#x27;polynomial&#x27;]},\n",
       "             return_train_score=True, scoring=&#x27;accuracy&#x27;)</pre></div></div></div><div class=\"sk-parallel\"><div class=\"sk-parallel-item\"><div class=\"sk-item\"><div class=\"sk-label-container\"><div class=\"sk-label sk-toggleable\"><input class=\"sk-toggleable__control sk-hidden--visually\" id=\"sk-estimator-id-14\" type=\"checkbox\" ><label for=\"sk-estimator-id-14\" class=\"sk-toggleable__label sk-toggleable__label-arrow\">estimator: SVC</label><div class=\"sk-toggleable__content\"><pre>SVC()</pre></div></div></div><div class=\"sk-serial\"><div class=\"sk-item\"><div class=\"sk-estimator sk-toggleable\"><input class=\"sk-toggleable__control sk-hidden--visually\" id=\"sk-estimator-id-15\" type=\"checkbox\" ><label for=\"sk-estimator-id-15\" class=\"sk-toggleable__label sk-toggleable__label-arrow\">SVC</label><div class=\"sk-toggleable__content\"><pre>SVC()</pre></div></div></div></div></div></div></div></div></div></div>"
      ],
      "text/plain": [
       "GridSearchCV(cv=5, estimator=SVC(), n_jobs=-1,\n",
       "             param_grid={'kernel': ['linear', 'rbf', 'sigmoid', 'polynomial']},\n",
       "             return_train_score=True, scoring='accuracy')"
      ]
     },
     "execution_count": 290,
     "metadata": {},
     "output_type": "execute_result"
    }
   ],
   "source": [
    "grid_svm = GridSearchCV(estimator=svm_model, param_grid=param_grid, cv=5, return_train_score=True, scoring='accuracy', n_jobs=-1)\n",
    "grid_svm.fit(X_train, y_train)"
   ]
  },
  {
   "cell_type": "code",
   "execution_count": 291,
   "metadata": {
    "execution": {
     "iopub.execute_input": "2024-03-24T16:54:57.713329Z",
     "iopub.status.busy": "2024-03-24T16:54:57.712619Z",
     "iopub.status.idle": "2024-03-24T16:54:57.741038Z",
     "shell.execute_reply": "2024-03-24T16:54:57.740029Z",
     "shell.execute_reply.started": "2024-03-24T16:54:57.713299Z"
    }
   },
   "outputs": [
    {
     "data": {
      "text/html": [
       "<div>\n",
       "<style scoped>\n",
       "    .dataframe tbody tr th:only-of-type {\n",
       "        vertical-align: middle;\n",
       "    }\n",
       "\n",
       "    .dataframe tbody tr th {\n",
       "        vertical-align: top;\n",
       "    }\n",
       "\n",
       "    .dataframe thead th {\n",
       "        text-align: right;\n",
       "    }\n",
       "</style>\n",
       "<table border=\"1\" class=\"dataframe\">\n",
       "  <thead>\n",
       "    <tr style=\"text-align: right;\">\n",
       "      <th></th>\n",
       "      <th>mean_fit_time</th>\n",
       "      <th>std_fit_time</th>\n",
       "      <th>mean_score_time</th>\n",
       "      <th>std_score_time</th>\n",
       "      <th>param_kernel</th>\n",
       "      <th>params</th>\n",
       "      <th>split0_test_score</th>\n",
       "      <th>split1_test_score</th>\n",
       "      <th>split2_test_score</th>\n",
       "      <th>split3_test_score</th>\n",
       "      <th>...</th>\n",
       "      <th>mean_test_score</th>\n",
       "      <th>std_test_score</th>\n",
       "      <th>rank_test_score</th>\n",
       "      <th>split0_train_score</th>\n",
       "      <th>split1_train_score</th>\n",
       "      <th>split2_train_score</th>\n",
       "      <th>split3_train_score</th>\n",
       "      <th>split4_train_score</th>\n",
       "      <th>mean_train_score</th>\n",
       "      <th>std_train_score</th>\n",
       "    </tr>\n",
       "  </thead>\n",
       "  <tbody>\n",
       "    <tr>\n",
       "      <th>0</th>\n",
       "      <td>0.021876</td>\n",
       "      <td>0.001403</td>\n",
       "      <td>0.004387</td>\n",
       "      <td>0.000086</td>\n",
       "      <td>linear</td>\n",
       "      <td>{'kernel': 'linear'}</td>\n",
       "      <td>0.832402</td>\n",
       "      <td>0.825843</td>\n",
       "      <td>0.803371</td>\n",
       "      <td>0.764045</td>\n",
       "      <td>...</td>\n",
       "      <td>0.805806</td>\n",
       "      <td>0.023936</td>\n",
       "      <td>2</td>\n",
       "      <td>0.820225</td>\n",
       "      <td>0.833100</td>\n",
       "      <td>0.828892</td>\n",
       "      <td>0.809257</td>\n",
       "      <td>0.792426</td>\n",
       "      <td>0.816780</td>\n",
       "      <td>0.014660</td>\n",
       "    </tr>\n",
       "    <tr>\n",
       "      <th>1</th>\n",
       "      <td>0.024896</td>\n",
       "      <td>0.001105</td>\n",
       "      <td>0.008033</td>\n",
       "      <td>0.000460</td>\n",
       "      <td>rbf</td>\n",
       "      <td>{'kernel': 'rbf'}</td>\n",
       "      <td>0.832402</td>\n",
       "      <td>0.814607</td>\n",
       "      <td>0.825843</td>\n",
       "      <td>0.808989</td>\n",
       "      <td>...</td>\n",
       "      <td>0.828278</td>\n",
       "      <td>0.017663</td>\n",
       "      <td>1</td>\n",
       "      <td>0.831461</td>\n",
       "      <td>0.841515</td>\n",
       "      <td>0.841515</td>\n",
       "      <td>0.847125</td>\n",
       "      <td>0.826087</td>\n",
       "      <td>0.837540</td>\n",
       "      <td>0.007637</td>\n",
       "    </tr>\n",
       "    <tr>\n",
       "      <th>2</th>\n",
       "      <td>0.035354</td>\n",
       "      <td>0.002238</td>\n",
       "      <td>0.005891</td>\n",
       "      <td>0.000898</td>\n",
       "      <td>sigmoid</td>\n",
       "      <td>{'kernel': 'sigmoid'}</td>\n",
       "      <td>0.720670</td>\n",
       "      <td>0.612360</td>\n",
       "      <td>0.685393</td>\n",
       "      <td>0.646067</td>\n",
       "      <td>...</td>\n",
       "      <td>0.663235</td>\n",
       "      <td>0.036895</td>\n",
       "      <td>3</td>\n",
       "      <td>0.664326</td>\n",
       "      <td>0.677419</td>\n",
       "      <td>0.667602</td>\n",
       "      <td>0.669004</td>\n",
       "      <td>0.647966</td>\n",
       "      <td>0.665263</td>\n",
       "      <td>0.009667</td>\n",
       "    </tr>\n",
       "    <tr>\n",
       "      <th>3</th>\n",
       "      <td>0.000404</td>\n",
       "      <td>0.000036</td>\n",
       "      <td>0.000000</td>\n",
       "      <td>0.000000</td>\n",
       "      <td>polynomial</td>\n",
       "      <td>{'kernel': 'polynomial'}</td>\n",
       "      <td>NaN</td>\n",
       "      <td>NaN</td>\n",
       "      <td>NaN</td>\n",
       "      <td>NaN</td>\n",
       "      <td>...</td>\n",
       "      <td>NaN</td>\n",
       "      <td>NaN</td>\n",
       "      <td>4</td>\n",
       "      <td>NaN</td>\n",
       "      <td>NaN</td>\n",
       "      <td>NaN</td>\n",
       "      <td>NaN</td>\n",
       "      <td>NaN</td>\n",
       "      <td>NaN</td>\n",
       "      <td>NaN</td>\n",
       "    </tr>\n",
       "  </tbody>\n",
       "</table>\n",
       "<p>4 rows × 21 columns</p>\n",
       "</div>"
      ],
      "text/plain": [
       "   mean_fit_time  std_fit_time  mean_score_time  std_score_time param_kernel  \\\n",
       "0       0.021876      0.001403         0.004387        0.000086       linear   \n",
       "1       0.024896      0.001105         0.008033        0.000460          rbf   \n",
       "2       0.035354      0.002238         0.005891        0.000898      sigmoid   \n",
       "3       0.000404      0.000036         0.000000        0.000000   polynomial   \n",
       "\n",
       "                     params  split0_test_score  split1_test_score  \\\n",
       "0      {'kernel': 'linear'}           0.832402           0.825843   \n",
       "1         {'kernel': 'rbf'}           0.832402           0.814607   \n",
       "2     {'kernel': 'sigmoid'}           0.720670           0.612360   \n",
       "3  {'kernel': 'polynomial'}                NaN                NaN   \n",
       "\n",
       "   split2_test_score  split3_test_score  ...  mean_test_score  std_test_score  \\\n",
       "0           0.803371           0.764045  ...         0.805806        0.023936   \n",
       "1           0.825843           0.808989  ...         0.828278        0.017663   \n",
       "2           0.685393           0.646067  ...         0.663235        0.036895   \n",
       "3                NaN                NaN  ...              NaN             NaN   \n",
       "\n",
       "   rank_test_score  split0_train_score  split1_train_score  \\\n",
       "0                2            0.820225            0.833100   \n",
       "1                1            0.831461            0.841515   \n",
       "2                3            0.664326            0.677419   \n",
       "3                4                 NaN                 NaN   \n",
       "\n",
       "   split2_train_score  split3_train_score  split4_train_score  \\\n",
       "0            0.828892            0.809257            0.792426   \n",
       "1            0.841515            0.847125            0.826087   \n",
       "2            0.667602            0.669004            0.647966   \n",
       "3                 NaN                 NaN                 NaN   \n",
       "\n",
       "   mean_train_score  std_train_score  \n",
       "0          0.816780         0.014660  \n",
       "1          0.837540         0.007637  \n",
       "2          0.665263         0.009667  \n",
       "3               NaN              NaN  \n",
       "\n",
       "[4 rows x 21 columns]"
      ]
     },
     "execution_count": 291,
     "metadata": {},
     "output_type": "execute_result"
    }
   ],
   "source": [
    "cv_results = pd.DataFrame(grid_svm.cv_results_)\n",
    "cv_results"
   ]
  },
  {
   "cell_type": "code",
   "execution_count": 292,
   "metadata": {
    "execution": {
     "iopub.execute_input": "2024-03-24T16:54:57.938339Z",
     "iopub.status.busy": "2024-03-24T16:54:57.937655Z",
     "iopub.status.idle": "2024-03-24T16:54:58.152301Z",
     "shell.execute_reply": "2024-03-24T16:54:58.151179Z",
     "shell.execute_reply.started": "2024-03-24T16:54:57.938302Z"
    }
   },
   "outputs": [
    {
     "data": {
      "image/png": "[encoded data removed]",
      "text/plain": [
       "<Figure size 640x480 with 1 Axes>"
      ]
     },
     "metadata": {},
     "output_type": "display_data"
    }
   ],
   "source": [
    "plt.plot(cv_results['param_kernel'], cv_results['mean_train_score'])\n",
    "plt.plot(cv_results['param_kernel'], cv_results['mean_test_score'])\n",
    "plt.xlabel('Kernel')\n",
    "plt.ylabel('Mean Accuracy')\n",
    "plt.legend(['Train', 'Test'])\n",
    "plt.grid(True)"
   ]
  },
  {
   "cell_type": "code",
   "execution_count": 293,
   "metadata": {
    "execution": {
     "iopub.execute_input": "2024-03-24T16:54:58.762996Z",
     "iopub.status.busy": "2024-03-24T16:54:58.762506Z",
     "iopub.status.idle": "2024-03-24T16:54:58.770200Z",
     "shell.execute_reply": "2024-03-24T16:54:58.769050Z",
     "shell.execute_reply.started": "2024-03-24T16:54:58.762961Z"
    }
   },
   "outputs": [
    {
     "data": {
      "text/plain": [
       "{'kernel': 'rbf'}"
      ]
     },
     "execution_count": 293,
     "metadata": {},
     "output_type": "execute_result"
    }
   ],
   "source": [
    "grid_svm.best_params_"
   ]
  },
  {
   "cell_type": "code",
   "execution_count": 294,
   "metadata": {
    "execution": {
     "iopub.execute_input": "2024-03-24T16:54:59.770692Z",
     "iopub.status.busy": "2024-03-24T16:54:59.770199Z",
     "iopub.status.idle": "2024-03-24T16:54:59.775466Z",
     "shell.execute_reply": "2024-03-24T16:54:59.774299Z",
     "shell.execute_reply.started": "2024-03-24T16:54:59.770657Z"
    }
   },
   "outputs": [],
   "source": [
    "svm_model = grid_svm.best_estimator_"
   ]
  },
  {
   "cell_type": "code",
   "execution_count": 295,
   "metadata": {
    "execution": {
     "iopub.execute_input": "2024-03-24T16:55:00.127014Z",
     "iopub.status.busy": "2024-03-24T16:55:00.126578Z",
     "iopub.status.idle": "2024-03-24T16:55:00.154003Z",
     "shell.execute_reply": "2024-03-24T16:55:00.152625Z",
     "shell.execute_reply.started": "2024-03-24T16:55:00.126982Z"
    }
   },
   "outputs": [],
   "source": [
    "y_pred = svm_model.predict(X_train)"
   ]
  },
  {
   "cell_type": "code",
   "execution_count": 296,
   "metadata": {
    "execution": {
     "iopub.execute_input": "2024-03-24T16:55:01.041769Z",
     "iopub.status.busy": "2024-03-24T16:55:01.041269Z",
     "iopub.status.idle": "2024-03-24T16:55:01.248522Z",
     "shell.execute_reply": "2024-03-24T16:55:01.247316Z",
     "shell.execute_reply.started": "2024-03-24T16:55:01.041730Z"
    }
   },
   "outputs": [
    {
     "data": {
      "image/png": "[encoded data removed]",
      "text/plain": [
       "<Figure size 640x480 with 2 Axes>"
      ]
     },
     "metadata": {},
     "output_type": "display_data"
    }
   ],
   "source": [
    "cm = ConfusionMatrixDisplay(confusion_matrix = confusion_matrix(y_train, y_pred))\n",
    "cm.plot()\n",
    "plt.show()"
   ]
  },
  {
   "cell_type": "code",
   "execution_count": 297,
   "metadata": {
    "execution": {
     "iopub.execute_input": "2024-03-24T16:55:02.573574Z",
     "iopub.status.busy": "2024-03-24T16:55:02.572287Z",
     "iopub.status.idle": "2024-03-24T16:55:02.589306Z",
     "shell.execute_reply": "2024-03-24T16:55:02.588348Z",
     "shell.execute_reply.started": "2024-03-24T16:55:02.573518Z"
    }
   },
   "outputs": [
    {
     "name": "stdout",
     "output_type": "stream",
     "text": [
      "Precision for training: 0.82%\n",
      "Recall for training: 0.74%\n",
      "F1 for training: 0.78%\n"
     ]
    }
   ],
   "source": [
    "print('Precision for training: {:.2f}%'.format(precision_score(y_train, y_pred)))\n",
    "print('Recall for training: {:.2f}%'.format(recall_score(y_train, y_pred)))\n",
    "print('F1 for training: {:.2f}%'.format(f1_score(y_train, y_pred)))"
   ]
  },
  {
   "cell_type": "markdown",
   "metadata": {},
   "source": [
    "### Random Forest"
   ]
  },
  {
   "cell_type": "code",
   "execution_count": 298,
   "metadata": {
    "execution": {
     "iopub.execute_input": "2024-03-24T16:55:06.137249Z",
     "iopub.status.busy": "2024-03-24T16:55:06.136797Z",
     "iopub.status.idle": "2024-03-24T16:55:06.301879Z",
     "shell.execute_reply": "2024-03-24T16:55:06.300881Z",
     "shell.execute_reply.started": "2024-03-24T16:55:06.137217Z"
    }
   },
   "outputs": [],
   "source": [
    "from sklearn.ensemble import RandomForestClassifier"
   ]
  },
  {
   "cell_type": "code",
   "execution_count": 299,
   "metadata": {
    "execution": {
     "iopub.execute_input": "2024-03-24T16:55:06.874294Z",
     "iopub.status.busy": "2024-03-24T16:55:06.873821Z",
     "iopub.status.idle": "2024-03-24T16:55:06.880345Z",
     "shell.execute_reply": "2024-03-24T16:55:06.878904Z",
     "shell.execute_reply.started": "2024-03-24T16:55:06.874258Z"
    }
   },
   "outputs": [],
   "source": [
    "rfc = RandomForestClassifier()"
   ]
  },
  {
   "cell_type": "code",
   "execution_count": 300,
   "metadata": {
    "execution": {
     "iopub.execute_input": "2024-03-24T16:55:07.317913Z",
     "iopub.status.busy": "2024-03-24T16:55:07.317425Z",
     "iopub.status.idle": "2024-03-24T16:55:07.323943Z",
     "shell.execute_reply": "2024-03-24T16:55:07.322654Z",
     "shell.execute_reply.started": "2024-03-24T16:55:07.317878Z"
    }
   },
   "outputs": [],
   "source": [
    "param_grid = { \n",
    "    'n_estimators': [200, 500],\n",
    "    'max_features': ['auto', 'sqrt', 'log2'],\n",
    "    'max_depth' : [4,5,6,7,8],\n",
    "    'criterion' :['gini', 'entropy']\n",
    "}"
   ]
  },
  {
   "cell_type": "code",
   "execution_count": null,
   "metadata": {},
   "outputs": [],
   "source": [
    "grid_rfc = GridSearchCV(estimator=rfc, param_grid=param_grid, cv=5, return_train_score=True, scoring='accuracy', n_jobs=-1)\n",
    "grid_rfc.fit(X_train, y_train)"
   ]
  },
  {
   "cell_type": "code",
   "execution_count": 302,
   "metadata": {
    "execution": {
     "iopub.execute_input": "2024-03-24T16:56:41.894124Z",
     "iopub.status.busy": "2024-03-24T16:56:41.892820Z",
     "iopub.status.idle": "2024-03-24T16:56:41.904853Z",
     "shell.execute_reply": "2024-03-24T16:56:41.903266Z",
     "shell.execute_reply.started": "2024-03-24T16:56:41.894072Z"
    }
   },
   "outputs": [],
   "source": [
    "cv_results = pd.DataFrame(grid_rfc.cv_results_).sort_values(by=['rank_test_score'])"
   ]
  },
  {
   "cell_type": "code",
   "execution_count": 303,
   "metadata": {
    "execution": {
     "iopub.execute_input": "2024-03-24T16:56:41.907248Z",
     "iopub.status.busy": "2024-03-24T16:56:41.906516Z",
     "iopub.status.idle": "2024-03-24T16:56:42.173287Z",
     "shell.execute_reply": "2024-03-24T16:56:42.172146Z",
     "shell.execute_reply.started": "2024-03-24T16:56:41.907203Z"
    }
   },
   "outputs": [
    {
     "data": {
      "image/png": "[encoded data removed]",
      "text/plain": [
       "<Figure size 640x480 with 1 Axes>"
      ]
     },
     "metadata": {},
     "output_type": "display_data"
    }
   ],
   "source": [
    "plt.plot(cv_results['rank_test_score'], cv_results['mean_train_score'])\n",
    "plt.plot(cv_results['rank_test_score'], cv_results['mean_test_score'])\n",
    "plt.xlabel('Rank Test Score')\n",
    "plt.ylabel('Mean Accuracy')\n",
    "plt.legend(['Train', 'Test'])\n",
    "plt.grid(True)"
   ]
  },
  {
   "cell_type": "code",
   "execution_count": 304,
   "metadata": {
    "execution": {
     "iopub.execute_input": "2024-03-24T16:56:42.176514Z",
     "iopub.status.busy": "2024-03-24T16:56:42.176098Z",
     "iopub.status.idle": "2024-03-24T16:56:42.184553Z",
     "shell.execute_reply": "2024-03-24T16:56:42.183337Z",
     "shell.execute_reply.started": "2024-03-24T16:56:42.176479Z"
    }
   },
   "outputs": [
    {
     "data": {
      "text/plain": [
       "{'criterion': 'entropy',\n",
       " 'max_depth': 4,\n",
       " 'max_features': 'auto',\n",
       " 'n_estimators': 200}"
      ]
     },
     "execution_count": 304,
     "metadata": {},
     "output_type": "execute_result"
    }
   ],
   "source": [
    "grid_rfc.best_params_"
   ]
  },
  {
   "cell_type": "code",
   "execution_count": 305,
   "metadata": {
    "execution": {
     "iopub.execute_input": "2024-03-24T16:56:42.186574Z",
     "iopub.status.busy": "2024-03-24T16:56:42.185921Z",
     "iopub.status.idle": "2024-03-24T16:56:42.192765Z",
     "shell.execute_reply": "2024-03-24T16:56:42.191653Z",
     "shell.execute_reply.started": "2024-03-24T16:56:42.186539Z"
    }
   },
   "outputs": [],
   "source": [
    "rfc = grid_rfc.best_estimator_"
   ]
  },
  {
   "cell_type": "code",
   "execution_count": 306,
   "metadata": {
    "execution": {
     "iopub.execute_input": "2024-03-24T16:56:42.194781Z",
     "iopub.status.busy": "2024-03-24T16:56:42.194340Z",
     "iopub.status.idle": "2024-03-24T16:56:42.225945Z",
     "shell.execute_reply": "2024-03-24T16:56:42.224875Z",
     "shell.execute_reply.started": "2024-03-24T16:56:42.194751Z"
    }
   },
   "outputs": [],
   "source": [
    "y_pred = rfc.predict(X_train)"
   ]
  },
  {
   "cell_type": "code",
   "execution_count": 307,
   "metadata": {
    "execution": {
     "iopub.execute_input": "2024-03-24T16:56:42.228892Z",
     "iopub.status.busy": "2024-03-24T16:56:42.228434Z",
     "iopub.status.idle": "2024-03-24T16:56:42.444859Z",
     "shell.execute_reply": "2024-03-24T16:56:42.443656Z",
     "shell.execute_reply.started": "2024-03-24T16:56:42.228850Z"
    }
   },
   "outputs": [
    {
     "data": {
      "image/png": "[encoded data removed]",
      "text/plain": [
       "<Figure size 640x480 with 2 Axes>"
      ]
     },
     "metadata": {},
     "output_type": "display_data"
    }
   ],
   "source": [
    "cm = ConfusionMatrixDisplay(confusion_matrix = confusion_matrix(y_train, y_pred))\n",
    "cm.plot()\n",
    "plt.show()"
   ]
  },
  {
   "cell_type": "code",
   "execution_count": 308,
   "metadata": {
    "execution": {
     "iopub.execute_input": "2024-03-24T16:56:42.447662Z",
     "iopub.status.busy": "2024-03-24T16:56:42.446529Z",
     "iopub.status.idle": "2024-03-24T16:56:42.462556Z",
     "shell.execute_reply": "2024-03-24T16:56:42.461444Z",
     "shell.execute_reply.started": "2024-03-24T16:56:42.447621Z"
    }
   },
   "outputs": [
    {
     "name": "stdout",
     "output_type": "stream",
     "text": [
      "Precision for training: 0.82%\n",
      "Recall for training: 0.74%\n",
      "F1 for training: 0.78%\n"
     ]
    }
   ],
   "source": [
    "print('Precision for training: {:.2f}%'.format(precision_score(y_train, y_pred)))\n",
    "print('Recall for training: {:.2f}%'.format(recall_score(y_train, y_pred)))\n",
    "print('F1 for training: {:.2f}%'.format(f1_score(y_train, y_pred)))"
   ]
  },
  {
   "cell_type": "markdown",
   "metadata": {},
   "source": [
    "## Export Submission"
   ]
  },
  {
   "cell_type": "markdown",
   "metadata": {},
   "source": [
    "After training models and evaluate the perfomance of these models, we will choose the model which has the best performance.\n",
    "\n",
    "Look at the measurements such as Accuracy, precision, recall, and f1-score, we can see that random forest algorithm performs quite good, so we will choose this algorithm."
   ]
  },
  {
   "cell_type": "code",
   "execution_count": 309,
   "metadata": {
    "execution": {
     "iopub.execute_input": "2024-03-24T16:57:12.518907Z",
     "iopub.status.busy": "2024-03-24T16:57:12.518485Z",
     "iopub.status.idle": "2024-03-24T16:57:12.545578Z",
     "shell.execute_reply": "2024-03-24T16:57:12.544330Z",
     "shell.execute_reply.started": "2024-03-24T16:57:12.518877Z"
    }
   },
   "outputs": [],
   "source": [
    "y_pred = rfc.predict(X_test)"
   ]
  },
  {
   "cell_type": "code",
   "execution_count": 310,
   "metadata": {
    "execution": {
     "iopub.execute_input": "2024-03-24T16:57:13.339102Z",
     "iopub.status.busy": "2024-03-24T16:57:13.338632Z",
     "iopub.status.idle": "2024-03-24T16:57:13.351042Z",
     "shell.execute_reply": "2024-03-24T16:57:13.349335Z",
     "shell.execute_reply.started": "2024-03-24T16:57:13.339064Z"
    }
   },
   "outputs": [],
   "source": [
    "# Save test predictions to file\n",
    "output = pd.DataFrame({'PassengerId': df_test.PassengerId.values,\n",
    "                       'Survived': y_pred.astype(int)})\n",
    "output.to_csv('submission.csv', index=False)"
   ]
  },
  {
   "cell_type": "markdown",
   "metadata": {},
   "source": [
    "## Reference: \n",
    "https://rpubs.com/jk100a/Titanic"
   ]
  }
 ],
 "metadata": {
  "kaggle": {
   "accelerator": "none",
   "dataSources": [
    {
     "databundleVersionId": 26502,
     "sourceId": 3136,
     "sourceType": "competition"
    }
   ],
   "dockerImageVersionId": 30646,
   "isGpuEnabled": false,
   "isInternetEnabled": true,
   "language": "python",
   "sourceType": "notebook"
  },
  "kernelspec": {
   "display_name": "Python 3 (ipykernel)",
   "language": "python",
   "name": "python3"
  },
  "language_info": {
   "codemirror_mode": {
    "name": "ipython",
    "version": 3
   },
   "file_extension": ".py",
   "mimetype": "text/x-python",
   "name": "python",
   "nbconvert_exporter": "python",
   "pygments_lexer": "ipython3",
   "version": "3.9.12"
  }
 },
 "nbformat": 4,
 "nbformat_minor": 4
}
